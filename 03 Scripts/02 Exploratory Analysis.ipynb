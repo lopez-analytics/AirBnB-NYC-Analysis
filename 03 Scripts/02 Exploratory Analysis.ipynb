{
 "cells": [
  {
   "cell_type": "markdown",
   "id": "2deda1f4-bb77-4c86-9144-0425098f824a",
   "metadata": {},
   "source": [
    "## 01. Import libraries"
   ]
  },
  {
   "cell_type": "code",
   "execution_count": 2,
   "id": "7a7645a2-baef-460e-86cc-7d7e169ae27e",
   "metadata": {},
   "outputs": [],
   "source": [
    "# Import libraries \n",
    "\n",
    "import pandas as pd\n",
    "import numpy as np\n",
    "import seaborn as sns\n",
    "import matplotlib.pyplot as plt\n",
    "import os"
   ]
  },
  {
   "cell_type": "markdown",
   "id": "9d1e75dd-21d3-41e9-b01e-d2869cddfef1",
   "metadata": {},
   "source": [
    "## 02. Create file path"
   ]
  },
  {
   "cell_type": "code",
   "execution_count": 4,
   "id": "e94233af-3211-49b1-9104-9f129ac034ea",
   "metadata": {},
   "outputs": [],
   "source": [
    "# Turn Project folder into path\n",
    "path = r'/Users/tanayawinder/Desktop/Case Study AirBnB'"
   ]
  },
  {
   "cell_type": "code",
   "execution_count": 5,
   "id": "ee7c02e4-2704-4411-a86e-926a4707c9d5",
   "metadata": {},
   "outputs": [
    {
     "data": {
      "text/plain": [
       "'/Users/tanayawinder/Desktop/Case Study AirBnB'"
      ]
     },
     "execution_count": 5,
     "metadata": {},
     "output_type": "execute_result"
    }
   ],
   "source": [
    "# Check output\n",
    "path"
   ]
  },
  {
   "cell_type": "markdown",
   "id": "91ff093c-269d-4f0b-9b83-9904376f3796",
   "metadata": {},
   "source": [
    "## 03. Import dataset"
   ]
  },
  {
   "cell_type": "code",
   "execution_count": 7,
   "id": "2fa9d760-61d4-4272-8745-d065568ff4b5",
   "metadata": {},
   "outputs": [
    {
     "ename": "FileNotFoundError",
     "evalue": "[Errno 2] No such file or directory: '/Users/tanayawinder/Desktop/Case Study AirBnB\\\\02 Data\\\\Prepared Data\\\\listing_csv_cleaned.pkl'",
     "output_type": "error",
     "traceback": [
      "\u001b[1;31m---------------------------------------------------------------------------\u001b[0m",
      "\u001b[1;31mFileNotFoundError\u001b[0m                         Traceback (most recent call last)",
      "Cell \u001b[1;32mIn[7], line 2\u001b[0m\n\u001b[0;32m      1\u001b[0m \u001b[38;5;66;03m# Import cleaned version of listing.csv\u001b[39;00m\n\u001b[1;32m----> 2\u001b[0m listing_clean \u001b[38;5;241m=\u001b[39m pd\u001b[38;5;241m.\u001b[39mread_pickle(os\u001b[38;5;241m.\u001b[39mpath\u001b[38;5;241m.\u001b[39mjoin(path,\u001b[38;5;124m'\u001b[39m\u001b[38;5;124m02 Data\u001b[39m\u001b[38;5;124m'\u001b[39m,\u001b[38;5;124m'\u001b[39m\u001b[38;5;124mPrepared Data\u001b[39m\u001b[38;5;124m'\u001b[39m,\u001b[38;5;124m'\u001b[39m\u001b[38;5;124mlisting_csv_cleaned.pkl\u001b[39m\u001b[38;5;124m'\u001b[39m))\n",
      "File \u001b[1;32m~\\Anaconda1\\Lib\\site-packages\\pandas\\io\\pickle.py:189\u001b[0m, in \u001b[0;36mread_pickle\u001b[1;34m(filepath_or_buffer, compression, storage_options)\u001b[0m\n\u001b[0;32m    125\u001b[0m \u001b[38;5;250m\u001b[39m\u001b[38;5;124;03m\"\"\"\u001b[39;00m\n\u001b[0;32m    126\u001b[0m \u001b[38;5;124;03mLoad pickled pandas object (or any object) from file.\u001b[39;00m\n\u001b[0;32m    127\u001b[0m \n\u001b[1;32m   (...)\u001b[0m\n\u001b[0;32m    186\u001b[0m \u001b[38;5;124;03m4    4    9\u001b[39;00m\n\u001b[0;32m    187\u001b[0m \u001b[38;5;124;03m\"\"\"\u001b[39;00m\n\u001b[0;32m    188\u001b[0m excs_to_catch \u001b[38;5;241m=\u001b[39m (\u001b[38;5;167;01mAttributeError\u001b[39;00m, \u001b[38;5;167;01mImportError\u001b[39;00m, \u001b[38;5;167;01mModuleNotFoundError\u001b[39;00m, \u001b[38;5;167;01mTypeError\u001b[39;00m)\n\u001b[1;32m--> 189\u001b[0m \u001b[38;5;28;01mwith\u001b[39;00m get_handle(\n\u001b[0;32m    190\u001b[0m     filepath_or_buffer,\n\u001b[0;32m    191\u001b[0m     \u001b[38;5;124m\"\u001b[39m\u001b[38;5;124mrb\u001b[39m\u001b[38;5;124m\"\u001b[39m,\n\u001b[0;32m    192\u001b[0m     compression\u001b[38;5;241m=\u001b[39mcompression,\n\u001b[0;32m    193\u001b[0m     is_text\u001b[38;5;241m=\u001b[39m\u001b[38;5;28;01mFalse\u001b[39;00m,\n\u001b[0;32m    194\u001b[0m     storage_options\u001b[38;5;241m=\u001b[39mstorage_options,\n\u001b[0;32m    195\u001b[0m ) \u001b[38;5;28;01mas\u001b[39;00m handles:\n\u001b[0;32m    196\u001b[0m     \u001b[38;5;66;03m# 1) try standard library Pickle\u001b[39;00m\n\u001b[0;32m    197\u001b[0m     \u001b[38;5;66;03m# 2) try pickle_compat (older pandas version) to handle subclass changes\u001b[39;00m\n\u001b[0;32m    198\u001b[0m     \u001b[38;5;66;03m# 3) try pickle_compat with latin-1 encoding upon a UnicodeDecodeError\u001b[39;00m\n\u001b[0;32m    200\u001b[0m     \u001b[38;5;28;01mtry\u001b[39;00m:\n\u001b[0;32m    201\u001b[0m         \u001b[38;5;66;03m# TypeError for Cython complaints about object.__new__ vs Tick.__new__\u001b[39;00m\n\u001b[0;32m    202\u001b[0m         \u001b[38;5;28;01mtry\u001b[39;00m:\n",
      "File \u001b[1;32m~\\Anaconda1\\Lib\\site-packages\\pandas\\io\\common.py:872\u001b[0m, in \u001b[0;36mget_handle\u001b[1;34m(path_or_buf, mode, encoding, compression, memory_map, is_text, errors, storage_options)\u001b[0m\n\u001b[0;32m    863\u001b[0m         handle \u001b[38;5;241m=\u001b[39m \u001b[38;5;28mopen\u001b[39m(\n\u001b[0;32m    864\u001b[0m             handle,\n\u001b[0;32m    865\u001b[0m             ioargs\u001b[38;5;241m.\u001b[39mmode,\n\u001b[1;32m   (...)\u001b[0m\n\u001b[0;32m    868\u001b[0m             newline\u001b[38;5;241m=\u001b[39m\u001b[38;5;124m\"\u001b[39m\u001b[38;5;124m\"\u001b[39m,\n\u001b[0;32m    869\u001b[0m         )\n\u001b[0;32m    870\u001b[0m     \u001b[38;5;28;01melse\u001b[39;00m:\n\u001b[0;32m    871\u001b[0m         \u001b[38;5;66;03m# Binary mode\u001b[39;00m\n\u001b[1;32m--> 872\u001b[0m         handle \u001b[38;5;241m=\u001b[39m \u001b[38;5;28mopen\u001b[39m(handle, ioargs\u001b[38;5;241m.\u001b[39mmode)\n\u001b[0;32m    873\u001b[0m     handles\u001b[38;5;241m.\u001b[39mappend(handle)\n\u001b[0;32m    875\u001b[0m \u001b[38;5;66;03m# Convert BytesIO or file objects passed with an encoding\u001b[39;00m\n",
      "\u001b[1;31mFileNotFoundError\u001b[0m: [Errno 2] No such file or directory: '/Users/tanayawinder/Desktop/Case Study AirBnB\\\\02 Data\\\\Prepared Data\\\\listing_csv_cleaned.pkl'"
     ]
    }
   ],
   "source": [
    "# Import cleaned version of listing.csv\n",
    "listing_clean = pd.read_pickle(os.path.join(path,'02 Data','Prepared Data','listing_csv_cleaned.pkl'))"
   ]
  },
  {
   "cell_type": "code",
   "execution_count": null,
   "id": "0ca661ed-7270-49a4-86b3-52352d743b8d",
   "metadata": {},
   "outputs": [],
   "source": [
    "# Check output\n",
    "listing_clean.shape"
   ]
  },
  {
   "cell_type": "code",
   "execution_count": null,
   "id": "66a3d558-decb-4d13-bab3-2d99a789318e",
   "metadata": {},
   "outputs": [],
   "source": [
    "listing_clean.head()"
   ]
  },
  {
   "cell_type": "markdown",
   "id": "620fdf29-9408-428b-a8d9-e554f126f5aa",
   "metadata": {},
   "source": [
    "## 04. Further cleaning to prepare data for analysis"
   ]
  },
  {
   "cell_type": "code",
   "execution_count": null,
   "id": "3818789e-9f33-4171-89b2-f06a730be0f2",
   "metadata": {},
   "outputs": [],
   "source": [
    "# Dropping the 'name' and 'host_name' columns to anonymize, keep only data for analysis\n",
    "listing_anon = listing_clean.drop(columns=['name', 'host_name', 'number_of_reviews_ltm', 'calculated_host_listings_count'])"
   ]
  },
  {
   "cell_type": "raw",
   "id": "74b57768-0a8f-415b-8663-8637277c2b97",
   "metadata": {},
   "source": [
    "listing_anon.dtypes"
   ]
  },
  {
   "cell_type": "code",
   "execution_count": null,
   "id": "3f2706a4-6610-4774-be5c-541ab4e78dd1",
   "metadata": {},
   "outputs": [],
   "source": [
    "# Import cleaned version of listing.gz.csv\n",
    "gz_clean = pd.read_pickle(os.path.join(path,'02 Data','Prepared Data','listing_gz_cleaned.pkl'))"
   ]
  },
  {
   "cell_type": "code",
   "execution_count": null,
   "id": "f1667724-85f4-4512-8c8c-d901a1d62436",
   "metadata": {},
   "outputs": [],
   "source": [
    "# Creating a new df with only relevant columns from listing.gz\n",
    "gz_for_merge = gz_clean[['id','host_is_superhost', 'review_scores_rating', 'bathrooms', 'bedrooms', 'accommodates']]"
   ]
  },
  {
   "cell_type": "markdown",
   "id": "80c27c36-d864-4be5-9370-6c757407f05b",
   "metadata": {},
   "source": [
    "### Merge relevant variables in listing_gz with listing_csv"
   ]
  },
  {
   "cell_type": "code",
   "execution_count": null,
   "id": "0c73373b-c5d3-4316-9011-ec977b0c0b0d",
   "metadata": {},
   "outputs": [],
   "source": [
    "# Merge dataframes on id\n",
    "merged = listing_anon.merge(gz_for_merge, left_on='id', right_on='id', how='inner') "
   ]
  },
  {
   "cell_type": "code",
   "execution_count": null,
   "id": "0aa33e11-be1c-4602-974f-f3a4f5232048",
   "metadata": {},
   "outputs": [],
   "source": [
    "# Set option to display all columns\n",
    "pd.set_option('display.max_columns', None)"
   ]
  },
  {
   "cell_type": "code",
   "execution_count": null,
   "id": "9df1e617-b263-4438-b9d7-757b10b0ec95",
   "metadata": {},
   "outputs": [],
   "source": [
    "merged.dtypes"
   ]
  },
  {
   "cell_type": "code",
   "execution_count": null,
   "id": "b95c7397-5193-4f57-a8e8-dd933782fd61",
   "metadata": {},
   "outputs": [],
   "source": [
    "# Change the host_is_superhost column to boolean type\n",
    "merged['host_is_superhost'] = merged['host_is_superhost'].map({'t': True, 'f': False})"
   ]
  },
  {
   "cell_type": "markdown",
   "id": "3cb747b9-aa3e-427a-8670-c222e7b4b276",
   "metadata": {},
   "source": [
    "## 05. Perform correlation matrix on numerical columns"
   ]
  },
  {
   "cell_type": "code",
   "execution_count": null,
   "id": "40e37e75-7f7e-455e-a5b5-08b66dd9cc27",
   "metadata": {},
   "outputs": [],
   "source": [
    "# Perform correlation matrix on numerical columns\n",
    "correlation_matrix = merged.select_dtypes(include=['float64', 'int64']).corr()\n",
    "correlation_matrix"
   ]
  },
  {
   "cell_type": "markdown",
   "id": "6c92a4c2-0e9d-4c5d-afaf-f450e1ff26dd",
   "metadata": {},
   "source": [
    "### Create heatmap from correalation"
   ]
  },
  {
   "cell_type": "code",
   "execution_count": null,
   "id": "d702a0d5-490d-4001-8140-d199a97fd5ec",
   "metadata": {},
   "outputs": [],
   "source": [
    "# Assuming listing_clean is your DataFrame and you've already dropped the columns\n",
    "correlation_matrix = merged.select_dtypes(include=['float64', 'int64']).corr()\n",
    "\n",
    "# Create a colorblind-friendly heatmap\n",
    "plt.figure(figsize=(10, 8))\n",
    "sns.heatmap(correlation_matrix, annot=True, fmt=\".2f\", cmap='cividis', square=True, cbar_kws={\"shrink\": .8}, linecolor='black', linewidths=0.5)\n",
    "plt.title('Correlation Heatmap')\n",
    "plt.show()"
   ]
  },
  {
   "cell_type": "markdown",
   "id": "942f10ac-240c-4daf-820b-f446f6ecbf1f",
   "metadata": {},
   "source": [
    "### Explore correlations"
   ]
  },
  {
   "cell_type": "code",
   "execution_count": null,
   "id": "4d5d617e-74e9-42bb-bc24-e6dd87d061e0",
   "metadata": {},
   "outputs": [],
   "source": [
    "correlation_matrix['price'].sort_values(ascending=False)"
   ]
  },
  {
   "cell_type": "code",
   "execution_count": null,
   "id": "a0ae641d-079f-4ec2-8425-0f3bbfa0a7ef",
   "metadata": {},
   "outputs": [],
   "source": [
    "correlation_matrix['review_scores_rating'].sort_values(ascending=False)"
   ]
  },
  {
   "cell_type": "markdown",
   "id": "e24999b5-7bf8-43e1-b85a-8ea6106ac0fe",
   "metadata": {},
   "source": [
    "## 06. Create scatterplot"
   ]
  },
  {
   "cell_type": "code",
   "execution_count": null,
   "id": "779d475f-3e90-46d9-a2e5-1758ade002a4",
   "metadata": {},
   "outputs": [],
   "source": [
    "# Create a scatterplot for the \"house age\" and \"price per unit\" columns in seaborn\n",
    "\n",
    "sns.lmplot(x = 'accommodates', y = 'price', data = merged)"
   ]
  },
  {
   "cell_type": "markdown",
   "id": "5036ba8f-3671-480b-9e6b-ccaab20cfb2b",
   "metadata": {},
   "source": [
    "### Explore outliers"
   ]
  },
  {
   "cell_type": "code",
   "execution_count": null,
   "id": "1c641a4b-9b10-4ba7-ab6a-042e185c4bbe",
   "metadata": {},
   "outputs": [],
   "source": [
    "# Explore outlier\n",
    "\n",
    "highest_price_row = merged.loc[merged['price'].idxmax()]\n",
    "highest_price_row"
   ]
  },
  {
   "cell_type": "code",
   "execution_count": null,
   "id": "6b404f72-f1af-492d-9448-c2c9f37b14da",
   "metadata": {},
   "outputs": [],
   "source": [
    "merged.shape"
   ]
  },
  {
   "cell_type": "code",
   "execution_count": null,
   "id": "89c9a87e-2d27-42e1-adc0-8214fda8db15",
   "metadata": {},
   "outputs": [],
   "source": [
    "# Find the index of the row with the maximum price\n",
    "max_price_index = merged['price'].idxmax()\n",
    "\n",
    "# Drop the row with the maximum price\n",
    "merged_dropped = merged.drop(max_price_index)\n",
    "\n",
    "# Check output\n",
    "merged_dropped.shape"
   ]
  },
  {
   "cell_type": "code",
   "execution_count": null,
   "id": "bb8e99f9-0fcc-41df-a72a-1c9b84efc846",
   "metadata": {},
   "outputs": [],
   "source": [
    "# Create a scatterplot for the \"house age\" and \"price per unit\" columns in seaborn\n",
    "\n",
    "sns.lmplot(x = 'accommodates', y = 'price', data = merged_dropped)"
   ]
  },
  {
   "cell_type": "code",
   "execution_count": null,
   "id": "efe41188-daf9-45e0-858a-620e636ef931",
   "metadata": {},
   "outputs": [],
   "source": [
    "# Retrieve the top five rows with the highest prices\n",
    "top_five_max_price_rows = merged_dropped.nlargest(5, 'price')\n",
    "\n",
    "# Display the top five rows\n",
    "top_five_max_price_rows"
   ]
  },
  {
   "cell_type": "code",
   "execution_count": null,
   "id": "28124c33-7040-416d-8620-f56f455506e1",
   "metadata": {},
   "outputs": [],
   "source": [
    "# Filter the DataFrame for the \"soho\" neighborhood\n",
    "soho_neighborhood = merged_dropped[merged_dropped['neighbourhood'] == 'SoHo']\n",
    "\n",
    "# Calculate the average price in the \"soho\" neighborhood\n",
    "average_price_soho = soho_neighborhood['price'].mean()\n",
    "\n",
    "# Display the average price\n",
    "print(f\"The average price in the Soho neighborhood is: {average_price_soho}\")"
   ]
  },
  {
   "cell_type": "markdown",
   "id": "cc1afa56-dfbf-4f2b-a74c-cbc2e401c639",
   "metadata": {},
   "source": [
    "These three are also outliers to be removed. "
   ]
  },
  {
   "cell_type": "code",
   "execution_count": null,
   "id": "81d4458c-cfe7-4e72-b3fb-a91332fc55fd",
   "metadata": {},
   "outputs": [],
   "source": [
    "# Find the indices of the top three rows with the highest prices\n",
    "top_three_max_price_indices = merged_dropped.nlargest(3, 'price').index\n",
    "\n",
    "# Drop the top three rows with the highest prices using the indices\n",
    "merged_dropped = merged_dropped.drop(top_three_max_price_indices)"
   ]
  },
  {
   "cell_type": "code",
   "execution_count": null,
   "id": "5c0f2dc0-828f-4183-8d25-dabea481c7e2",
   "metadata": {},
   "outputs": [],
   "source": [
    "merged_dropped.shape"
   ]
  },
  {
   "cell_type": "markdown",
   "id": "f158f323-3d11-48dc-9bd5-3960d41152fe",
   "metadata": {},
   "source": [
    "### Create scatterplots"
   ]
  },
  {
   "cell_type": "code",
   "execution_count": null,
   "id": "f64e57be-8625-4893-b3e5-31ac6a1f06c2",
   "metadata": {},
   "outputs": [],
   "source": [
    "# Create a scatterplot for the \"house age\" and \"price per unit\" columns in seaborn\n",
    "\n",
    "sns.lmplot(x = 'accommodates', y = 'price', data = merged_dropped)"
   ]
  },
  {
   "cell_type": "code",
   "execution_count": null,
   "id": "110185cf-9dd8-481c-b214-c4ee7a36a708",
   "metadata": {},
   "outputs": [],
   "source": [
    "# Creating a new DataFrame with selected columns\n",
    "selected_columns_df = merged_dropped[['accommodates', 'bathrooms', 'price']]"
   ]
  },
  {
   "cell_type": "code",
   "execution_count": null,
   "id": "df5d3c7d-0126-4ed5-8a07-55a09fb06c49",
   "metadata": {},
   "outputs": [],
   "source": [
    "# Dropping rows where the price is 7000 or more\n",
    "filtered_df = selected_columns_df[selected_columns_df['price'] < 7000]"
   ]
  },
  {
   "cell_type": "code",
   "execution_count": null,
   "id": "71875c34-75cb-4760-ab7e-b6c9a44dc996",
   "metadata": {},
   "outputs": [],
   "source": [
    "# Create a scatterplot for the \"house age\" and \"price per unit\" columns in seaborn\n",
    "\n",
    "sns.lmplot(x = 'accommodates', y = 'price', data = filtered_df)"
   ]
  },
  {
   "cell_type": "markdown",
   "id": "9fc0d7db-a50d-49dd-98ed-1919d1688d57",
   "metadata": {},
   "source": [
    "The scatter plot indicates that as the number of guests a property can accommodate increases, the price also tends to increase. This is evidenced by the slight upward trend in the plot, although the relationship appears to be weak to moderate at best. "
   ]
  },
  {
   "cell_type": "code",
   "execution_count": null,
   "id": "2a98990a-d1ff-4849-a2bc-187c6ba5233d",
   "metadata": {},
   "outputs": [],
   "source": [
    "sns.lmplot(x = 'bathrooms', y = 'price', data = filtered_df)"
   ]
  },
  {
   "cell_type": "code",
   "execution_count": null,
   "id": "27104988-3443-43bf-9a74-df1b12c805f9",
   "metadata": {},
   "outputs": [],
   "source": [
    "# Drop rows where the number of bathrooms is greater than 10\n",
    "filtered_df = filtered_df[filtered_df['bathrooms'] <= 10]  # Keep only rows with 10 or fewer bathrooms"
   ]
  },
  {
   "cell_type": "code",
   "execution_count": null,
   "id": "ef46d4a9-2c06-4358-9036-cd5b1117bf64",
   "metadata": {},
   "outputs": [],
   "source": [
    "sns.lmplot(x = 'bathrooms', y = 'price', data = filtered_df)"
   ]
  },
  {
   "cell_type": "markdown",
   "id": "52b90d9d-a3c3-4d75-b629-16c0694f49f4",
   "metadata": {},
   "source": [
    "Positive Trend: The plot shows a positive trend, meaning that as the number of bathrooms increases, the price of the property tends to increase as well. This is indicated by the upward slope of the line that fits the data points. Practically speaking, more bathrooms likely means a higher-end rental space. "
   ]
  },
  {
   "cell_type": "markdown",
   "id": "1feff091-ee75-4699-b375-02deb75ee50e",
   "metadata": {},
   "source": [
    "## 07. Create pair plot"
   ]
  },
  {
   "cell_type": "code",
   "execution_count": null,
   "id": "ac16df44-72a6-4480-a099-3a1d461726a0",
   "metadata": {},
   "outputs": [],
   "source": [
    "# Dropping rows where the price is 7000 or more\n",
    "merged_dropped = merged_dropped [merged_dropped ['price'] < 7000]"
   ]
  },
  {
   "cell_type": "code",
   "execution_count": null,
   "id": "8ce32f81-6564-4550-b079-e9d2ea81e0f7",
   "metadata": {},
   "outputs": [],
   "source": [
    "# Drop rows where the number of bathrooms is greater than 10\n",
    "merged_dropped = merged_dropped[merged_dropped['bathrooms'] <= 10]  # Keep only rows with 10 or fewer bathrooms"
   ]
  },
  {
   "cell_type": "code",
   "execution_count": null,
   "id": "df1cbff9-95bc-43c4-b315-e16f7eb1d6a6",
   "metadata": {},
   "outputs": [],
   "source": [
    "merged_without_bool = merged_dropped.drop(columns=['host_is_superhost', 'latitude', 'longitude', 'id', 'host_id'])"
   ]
  },
  {
   "cell_type": "code",
   "execution_count": null,
   "id": "00f4fa9a-3705-4f0c-b7e7-0e90bfd4de53",
   "metadata": {},
   "outputs": [],
   "source": [
    "# Perform correlation matrix on numerical columns\n",
    "correlation_matrix = merged_dropped.select_dtypes(include=['float64', 'int64']).corr()\n",
    "correlation_matrix"
   ]
  },
  {
   "cell_type": "code",
   "execution_count": null,
   "id": "510e7211-8e36-44c2-ae05-9db54c2bee61",
   "metadata": {
    "scrolled": true
   },
   "outputs": [],
   "source": [
    "# Assuming listing_clean is your DataFrame and you've already dropped the columns\n",
    "correlation_matrix_2 = merged_without_bool.select_dtypes(include=['float64', 'int64']).corr()\n",
    "\n",
    "# Create a colorblind-friendly heatmap\n",
    "plt.figure(figsize=(10, 8))\n",
    "sns.heatmap(correlation_matrix_2, annot=True, fmt=\".2f\", cmap='cividis', square=True, cbar_kws={\"shrink\": .8}, linecolor='black', linewidths=0.5)\n",
    "plt.title('Correlation Heatmap')\n",
    "plt.show()"
   ]
  },
  {
   "cell_type": "code",
   "execution_count": null,
   "id": "37e1acff-a357-46f4-b56c-faf5ed5f9a57",
   "metadata": {},
   "outputs": [],
   "source": [
    "correlation_matrix_2['price'].sort_values(ascending=False)"
   ]
  },
  {
   "cell_type": "code",
   "execution_count": null,
   "id": "676a640b-a9b0-4849-8d7e-0c06085553b0",
   "metadata": {},
   "outputs": [],
   "source": [
    "correlation_matrix_2['review_scores_rating'].sort_values(ascending=False)"
   ]
  },
  {
   "cell_type": "markdown",
   "id": "c05239ac-c6fe-4e6d-bfe9-b8f6a0c42e06",
   "metadata": {},
   "source": [
    "#### Positive Relationships:\n",
    "\n",
    "accommodates (0.464984): This is the strongest positive correlation, meaning that as the number of guests a property can accommodate increases, the price also tends to increase. Larger properties typically cost more.\n",
    "\n",
    "bathrooms (0.311114): More bathrooms generally lead to higher prices, indicating that properties with more bathrooms are likely more spacious or luxurious.\n",
    "\n",
    "bedrooms (0.248679): Similar to bathrooms, more bedrooms correlate with higher prices, though the relationship is not as strong.\n",
    "    \n",
    "availability_365 (0.065684): This weak positive correlation suggests that properties available more days of the year might have slightly higher prices, but the effect is small.\n",
    "\n",
    "review_scores_rating (0.057604): Higher ratings are associated with slightly higher prices, but the relationship is very weak.\n",
    "\n",
    "#### Negative Relationships:\n",
    "\n",
    "number_of_reviews (-0.055883): There’s a weak negative correlation, indicating that properties with more reviews might have slightly lower prices. This could be because more affordable properties tend to get booked (and reviewed) more often.\n",
    "    \n",
    "minimum_nights (-0.084870): Properties with higher minimum stay requirements tend to have slightly lower prices. Hosts might lower prices to attract longer stays, but this effect is also weak.\n",
    "\n",
    "#### No Relationship:\n",
    "\n",
    "reviews_per_month (0.011632): This correlation is almost zero, indicating that the frequency of reviews does not significantly impact pricing."
   ]
  },
  {
   "cell_type": "code",
   "execution_count": null,
   "id": "a39e557b-801a-43bc-a30f-5119631cc420",
   "metadata": {},
   "outputs": [],
   "source": [
    "g = sns.pairplot(merged_without_bool)\n",
    "\n",
    "# Overlay regression lines on the scatter plots\n",
    "for ax in g.axes.flatten():\n",
    "    # Check if the axes are not empty\n",
    "    if ax.collections:\n",
    "        # Get the x and y data from the scatter plot\n",
    "        x_data = ax.collections[0].get_offsets()[:, 0]\n",
    "        y_data = ax.collections[0].get_offsets()[:, 1]\n",
    "        \n",
    "        # Fit a linear regression line\n",
    "        sns.regplot(x=x_data, y=y_data, ax=ax, scatter=False, color='red')\n",
    "\n",
    "# Show the plot\n",
    "plt.show()"
   ]
  },
  {
   "cell_type": "markdown",
   "id": "4efa7e4c-13cf-4383-81cc-d2f574ebc145",
   "metadata": {},
   "source": [
    "## 08. Categorical plot"
   ]
  },
  {
   "cell_type": "code",
   "execution_count": null,
   "id": "684c82d7-c615-4252-a5a8-583b4d94e64c",
   "metadata": {},
   "outputs": [],
   "source": [
    "# Use a histogram to visualize the distribution of the variables. \n",
    "# This way, you can determine sensible categories for the price ranges. \n",
    "# You don't want to end up with too few observations in any one of the categories.\n",
    "# The argument \"kde\" add a line that encompasses the distribution\n",
    "\n",
    "# Assuming merged_dropped is your DataFrame\n",
    "top_neighbourhoods = merged_dropped['neighbourhood'].value_counts().nlargest(10).index\n",
    "filtered_data = merged_dropped[merged_dropped['neighbourhood'].isin(top_neighbourhoods)]\n",
    "\n",
    "sns.histplot(filtered_data['neighbourhood'], bins=20, kde=True)\n",
    "plt.title('Top 10 Neighbourhoods Histogram')\n",
    "plt.xlabel('Neighbourhood')\n",
    "plt.ylabel('Frequency')\n",
    "plt.xticks(rotation=45)\n",
    "plt.show()"
   ]
  },
  {
   "cell_type": "markdown",
   "id": "87791226-b0ba-420d-9082-f8a1aea01d13",
   "metadata": {},
   "source": [
    "Top 10 neighborhoods split evenly between Manhattan and Brooklyn."
   ]
  },
  {
   "cell_type": "code",
   "execution_count": null,
   "id": "d43c7280-1207-44a5-94e6-58cf6e46f86d",
   "metadata": {},
   "outputs": [],
   "source": [
    "sns.histplot(merged_dropped['neighbourhood_group'], bins = 20, kde = True)"
   ]
  },
  {
   "cell_type": "code",
   "execution_count": null,
   "id": "fa4c3d16-a7ed-40d3-9dde-8b3346e89495",
   "metadata": {},
   "outputs": [],
   "source": [
    "sns.histplot(merged_dropped['room_type'], bins = 20, kde = True)"
   ]
  },
  {
   "cell_type": "code",
   "execution_count": null,
   "id": "e6dd99e9-40ba-4d08-951e-f4315c9988e4",
   "metadata": {},
   "outputs": [],
   "source": [
    "# Filter the data to include only prices up to 2000\n",
    "filtered_prices = merged_dropped[merged_dropped['price'] <= 2000]\n",
    "\n",
    "sns.histplot(filtered_prices['price'], bins=20, kde=True)\n",
    "plt.title('Price Distribution Histogram')\n",
    "plt.xlabel('Price')\n",
    "plt.ylabel('Frequency')\n",
    "plt.show()"
   ]
  },
  {
   "cell_type": "code",
   "execution_count": null,
   "id": "eef679dc-1740-416c-b407-1e0643596da4",
   "metadata": {},
   "outputs": [],
   "source": [
    "merged_dropped.describe()"
   ]
  },
  {
   "cell_type": "code",
   "execution_count": null,
   "id": "dff2a364-121b-4e3b-a0b9-932c90fa454c",
   "metadata": {},
   "outputs": [],
   "source": [
    "merged_dropped.shape"
   ]
  },
  {
   "cell_type": "code",
   "execution_count": null,
   "id": "6b549c9e-3314-406a-a1d0-f2dfa184e164",
   "metadata": {},
   "outputs": [],
   "source": [
    "# fig = g.get_figure()\n",
    "g.savefig(\"out.png\") \n",
    "\n",
    "# Again, the image will be saved in the working directory. "
   ]
  },
  {
   "cell_type": "markdown",
   "id": "c8c0a144-27ba-4434-86f3-487f46e074f1",
   "metadata": {},
   "source": [
    "### Variables to Explore Further:\n",
    "\n",
    "\n",
    "#### Categorical:\n",
    "price vs neighborhoods, neighborhood groups: this will provide valueable information on how each burrough and then which neighborhoods withinin each burrough are listed.\n",
    " \n",
    "price vs room type: this will provide key inights such as whether location or type of rental have more effect on pricing.\n",
    "\n",
    "#### Numerical:\n",
    "\n",
    "price vs. accommodates, bathrooms, bedrooms: These variables show a clear positive trend with price, but the relationships are not strong. Exploring these further could reveal more about the specific factors driving higher prices, such as location or luxury features.\n",
    "\n",
    "minimum_nights: The wide range in minimum nights and its weak relationship with price suggests there may be interesting patterns based on property type or location. Further analysis could uncover whether longer minimum stays are more common in certain markets or for specific property types.\n",
    "\n",
    "availability_365: The uniform distribution suggests that some properties are available year-round, while others are not. Exploring this in relation to other factors (like price or reviews) could reveal strategies for maximizing bookings.\n",
    "                                                                                                                                                                                                          "
   ]
  },
  {
   "cell_type": "markdown",
   "id": "1fd4e6da-934a-47b6-8a31-82e152e76952",
   "metadata": {},
   "source": [
    "#### Questions\n",
    "\n",
    "What factors drive price? \n",
    "\n",
    "Are there any noticable seasonal trends? \n",
    "\n",
    "How much to ratings affect listings?\n",
    "\n",
    "#### Hypothesis\n",
    "\n",
    "Factors such as neighborhood group, size and type of rental property have the most effect on prices. Most lsitings will be around holidays New Years. "
   ]
  },
  {
   "cell_type": "code",
   "execution_count": null,
   "id": "ee0afedb-9e74-4255-b239-48453b2db9a6",
   "metadata": {},
   "outputs": [],
   "source": []
  }
 ],
 "metadata": {
  "kernelspec": {
   "display_name": "Python 3 (ipykernel)",
   "language": "python",
   "name": "python3"
  },
  "language_info": {
   "codemirror_mode": {
    "name": "ipython",
    "version": 3
   },
   "file_extension": ".py",
   "mimetype": "text/x-python",
   "name": "python",
   "nbconvert_exporter": "python",
   "pygments_lexer": "ipython3",
   "version": "3.11.5"
  }
 },
 "nbformat": 4,
 "nbformat_minor": 5
}
