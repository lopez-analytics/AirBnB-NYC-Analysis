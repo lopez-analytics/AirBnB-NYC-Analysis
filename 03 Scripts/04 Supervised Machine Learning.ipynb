{
 "cells": [
  {
   "cell_type": "markdown",
   "id": "efebb0d4-7524-4ef8-874b-5728bffdb36d",
   "metadata": {},
   "source": [
    "## 01. Import libraries"
   ]
  },
  {
   "cell_type": "code",
   "execution_count": 2,
   "id": "030b6cc4-1847-4d0f-9ac0-38375d5697da",
   "metadata": {},
   "outputs": [],
   "source": [
    "import pandas as pd\n",
    "import numpy as np\n",
    "import seaborn as sns\n",
    "import matplotlib\n",
    "import matplotlib.pyplot as plt\n",
    "import geopandas as gpd\n",
    "import os\n",
    "import sklearn\n",
    "from sklearn.model_selection import train_test_split\n",
    "from sklearn.linear_model import LinearRegression\n",
    "from sklearn.metrics import mean_squared_error, r2_score"
   ]
  },
  {
   "cell_type": "markdown",
   "id": "144c1604-674d-4e69-b396-43b004786ac0",
   "metadata": {},
   "source": [
    "## 02. Create file path"
   ]
  },
  {
   "cell_type": "code",
   "execution_count": 4,
   "id": "98a9f551-f7e5-4499-8d1a-751580e4c890",
   "metadata": {},
   "outputs": [],
   "source": [
    "# Turn Project Folder into Path\n",
    "path = r'/Users/tanayawinder/Desktop/Case Study AirBnB'"
   ]
  },
  {
   "cell_type": "code",
   "execution_count": 5,
   "id": "9dbd79fa-bcd5-4f4a-a8de-0dcda0fe2535",
   "metadata": {},
   "outputs": [
    {
     "data": {
      "text/plain": [
       "'/Users/tanayawinder/Desktop/Case Study AirBnB'"
      ]
     },
     "execution_count": 5,
     "metadata": {},
     "output_type": "execute_result"
    }
   ],
   "source": [
    "# Check output\n",
    "path"
   ]
  },
  {
   "cell_type": "markdown",
   "id": "a479f0cc-7ac6-434c-a356-dd6deb6c6492",
   "metadata": {},
   "source": [
    "## 03. Import merged dataset"
   ]
  },
  {
   "cell_type": "code",
   "execution_count": 7,
   "id": "dcf361aa-843d-4fd4-96da-1cb1d7032197",
   "metadata": {},
   "outputs": [],
   "source": [
    "# Import cleaned listing csv file\n",
    "listings = pd.read_pickle(os.path.join(path,'02 Data','Prepared Data','listings_cleaned_map.pkl'))"
   ]
  },
  {
   "cell_type": "code",
   "execution_count": 8,
   "id": "e5f2e288-6956-46ba-99ed-7ab986f3477d",
   "metadata": {},
   "outputs": [],
   "source": [
    "# Import cleaned listing csv file\n",
    "analysis_df = pd.read_pickle(os.path.join(path,'02 Data','Prepared Data','analysis_df.pkl'))"
   ]
  },
  {
   "cell_type": "markdown",
   "id": "463e5493-5dfb-41d8-86d5-0639d38c7b12",
   "metadata": {},
   "source": [
    "## 04. Data cleaning and checks"
   ]
  },
  {
   "cell_type": "code",
   "execution_count": 10,
   "id": "3aad857e-838d-47a2-a847-515698819bfd",
   "metadata": {},
   "outputs": [
    {
     "data": {
      "text/plain": [
       "Index(['id', 'host_id', 'reviews_in_last_year', 'host_since',\n",
       "       'host_response_time', 'host_response_rate', 'host_acceptance_rate',\n",
       "       'superhost', 'host_listings_count', 'neighborhood', 'borough',\n",
       "       'latitude', 'longitude', 'property_type', 'room_type', 'accommodates',\n",
       "       'bathrooms', 'bedrooms', 'amenities', 'price', 'minimum_nights',\n",
       "       'maximum_nights', 'min_min_nights_allowed', 'max_min_nights_allowed',\n",
       "       'min_max_nights_allowed', 'max_max_nights_allowed',\n",
       "       'minimum_nights_avg_ntm', 'maximum_nights_avg_ntm', 'availability_30',\n",
       "       'availability_60', 'availability_90', 'availability_365',\n",
       "       'number_of_reviews', 'number_of_reviews_ltm', 'first_review',\n",
       "       'last_review', 'review_scores_rating', 'review_scores_accuracy',\n",
       "       'review_scores_cleanliness', 'review_scores_checkin',\n",
       "       'review_scores_communication', 'review_scores_location',\n",
       "       'review_scores_value', 'instant_bookable',\n",
       "       'calculated_host_listings_count',\n",
       "       'calculated_host_listings_count_entire_homes',\n",
       "       'calculated_host_listings_count_private_rooms',\n",
       "       'calculated_host_listings_count_shared_rooms', 'reviews_per_month',\n",
       "       'listing_id', 'date'],\n",
       "      dtype='object')"
      ]
     },
     "execution_count": 10,
     "metadata": {},
     "output_type": "execute_result"
    }
   ],
   "source": [
    "listings.columns"
   ]
  },
  {
   "cell_type": "code",
   "execution_count": 11,
   "id": "48d4f6ff-4777-4616-a9f6-df10fe64f810",
   "metadata": {},
   "outputs": [],
   "source": [
    "# Create a new DataFrame with the selected columns\n",
    "analysis_df = listings[['id','accommodates', 'bedrooms', 'bathrooms', 'review_scores_rating', 'price']]"
   ]
  },
  {
   "cell_type": "code",
   "execution_count": 12,
   "id": "aeedb43e-f6c6-423e-a33e-cfc165f83888",
   "metadata": {},
   "outputs": [
    {
     "data": {
      "text/plain": [
       "(832827, 6)"
      ]
     },
     "execution_count": 12,
     "metadata": {},
     "output_type": "execute_result"
    }
   ],
   "source": [
    "analysis_df.shape"
   ]
  },
  {
   "cell_type": "code",
   "execution_count": 13,
   "id": "8a15e087-43ba-4141-8754-5213d485d3ee",
   "metadata": {},
   "outputs": [
    {
     "data": {
      "text/plain": [
       "(832827, 51)"
      ]
     },
     "execution_count": 13,
     "metadata": {},
     "output_type": "execute_result"
    }
   ],
   "source": [
    "listings.shape"
   ]
  },
  {
   "cell_type": "markdown",
   "id": "efd5cc44-5eaa-4927-b881-c5555878b394",
   "metadata": {},
   "source": [
    "### Check for missing values"
   ]
  },
  {
   "cell_type": "code",
   "execution_count": 15,
   "id": "1267d576-fd5c-4871-9b79-3c9386635e6b",
   "metadata": {},
   "outputs": [
    {
     "data": {
      "text/plain": [
       "id                                               0\n",
       "host_id                                          0\n",
       "reviews_in_last_year                             0\n",
       "host_since                                       1\n",
       "host_response_time                               0\n",
       "host_response_rate                               0\n",
       "host_acceptance_rate                             0\n",
       "superhost                                        0\n",
       "host_listings_count                              1\n",
       "neighborhood                                     0\n",
       "borough                                          0\n",
       "latitude                                         0\n",
       "longitude                                        0\n",
       "property_type                                    0\n",
       "room_type                                        0\n",
       "accommodates                                     0\n",
       "bathrooms                                        2\n",
       "bedrooms                                         0\n",
       "amenities                                        0\n",
       "price                                            0\n",
       "minimum_nights                                   0\n",
       "maximum_nights                                   0\n",
       "min_min_nights_allowed                           0\n",
       "max_min_nights_allowed                           0\n",
       "min_max_nights_allowed                           0\n",
       "max_max_nights_allowed                           0\n",
       "minimum_nights_avg_ntm                           0\n",
       "maximum_nights_avg_ntm                           0\n",
       "availability_30                                  0\n",
       "availability_60                                  0\n",
       "availability_90                                  0\n",
       "availability_365                                 0\n",
       "number_of_reviews                                0\n",
       "number_of_reviews_ltm                            0\n",
       "first_review                                     0\n",
       "last_review                                      0\n",
       "review_scores_rating                             0\n",
       "review_scores_accuracy                           9\n",
       "review_scores_cleanliness                        6\n",
       "review_scores_checkin                           12\n",
       "review_scores_communication                      8\n",
       "review_scores_location                          14\n",
       "review_scores_value                             12\n",
       "instant_bookable                                 0\n",
       "calculated_host_listings_count                   0\n",
       "calculated_host_listings_count_entire_homes      0\n",
       "calculated_host_listings_count_private_rooms     0\n",
       "calculated_host_listings_count_shared_rooms      0\n",
       "reviews_per_month                                0\n",
       "listing_id                                       0\n",
       "date                                             0\n",
       "dtype: int64"
      ]
     },
     "execution_count": 15,
     "metadata": {},
     "output_type": "execute_result"
    }
   ],
   "source": [
    "# Check for missing values\n",
    "\n",
    "listings.isnull().sum()"
   ]
  },
  {
   "cell_type": "code",
   "execution_count": 16,
   "id": "3d2ac7b4-2fac-4fcb-8a07-d52782f8a789",
   "metadata": {},
   "outputs": [],
   "source": [
    "listings_cleaned = listings.dropna()"
   ]
  },
  {
   "cell_type": "code",
   "execution_count": 17,
   "id": "59833965-e97c-46ed-8fdc-676b59ecc852",
   "metadata": {},
   "outputs": [
    {
     "data": {
      "text/plain": [
       "id                                              0\n",
       "host_id                                         0\n",
       "reviews_in_last_year                            0\n",
       "host_since                                      0\n",
       "host_response_time                              0\n",
       "host_response_rate                              0\n",
       "host_acceptance_rate                            0\n",
       "superhost                                       0\n",
       "host_listings_count                             0\n",
       "neighborhood                                    0\n",
       "borough                                         0\n",
       "latitude                                        0\n",
       "longitude                                       0\n",
       "property_type                                   0\n",
       "room_type                                       0\n",
       "accommodates                                    0\n",
       "bathrooms                                       0\n",
       "bedrooms                                        0\n",
       "amenities                                       0\n",
       "price                                           0\n",
       "minimum_nights                                  0\n",
       "maximum_nights                                  0\n",
       "min_min_nights_allowed                          0\n",
       "max_min_nights_allowed                          0\n",
       "min_max_nights_allowed                          0\n",
       "max_max_nights_allowed                          0\n",
       "minimum_nights_avg_ntm                          0\n",
       "maximum_nights_avg_ntm                          0\n",
       "availability_30                                 0\n",
       "availability_60                                 0\n",
       "availability_90                                 0\n",
       "availability_365                                0\n",
       "number_of_reviews                               0\n",
       "number_of_reviews_ltm                           0\n",
       "first_review                                    0\n",
       "last_review                                     0\n",
       "review_scores_rating                            0\n",
       "review_scores_accuracy                          0\n",
       "review_scores_cleanliness                       0\n",
       "review_scores_checkin                           0\n",
       "review_scores_communication                     0\n",
       "review_scores_location                          0\n",
       "review_scores_value                             0\n",
       "instant_bookable                                0\n",
       "calculated_host_listings_count                  0\n",
       "calculated_host_listings_count_entire_homes     0\n",
       "calculated_host_listings_count_private_rooms    0\n",
       "calculated_host_listings_count_shared_rooms     0\n",
       "reviews_per_month                               0\n",
       "listing_id                                      0\n",
       "date                                            0\n",
       "dtype: int64"
      ]
     },
     "execution_count": 17,
     "metadata": {},
     "output_type": "execute_result"
    }
   ],
   "source": [
    "# Check for missing values\n",
    "\n",
    "listings_cleaned.isnull().sum()"
   ]
  },
  {
   "cell_type": "markdown",
   "id": "9878e3a2-55c2-4888-a6ee-e65a3daf9c16",
   "metadata": {},
   "source": [
    "### Check for duplicate rows"
   ]
  },
  {
   "cell_type": "code",
   "execution_count": 19,
   "id": "f2920dab-3d4a-4c74-8cba-bf94f8f88056",
   "metadata": {},
   "outputs": [],
   "source": [
    "dups = listings_cleaned.duplicated().sum()"
   ]
  },
  {
   "cell_type": "code",
   "execution_count": 20,
   "id": "018a7db6-6605-4127-8de2-e50d3a453766",
   "metadata": {},
   "outputs": [
    {
     "data": {
      "text/plain": [
       "0"
      ]
     },
     "execution_count": 20,
     "metadata": {},
     "output_type": "execute_result"
    }
   ],
   "source": [
    "dups"
   ]
  },
  {
   "cell_type": "markdown",
   "id": "37829701-262c-483b-a1fb-b86940093c63",
   "metadata": {},
   "source": [
    "### Check for extreme values"
   ]
  },
  {
   "cell_type": "code",
   "execution_count": 22,
   "id": "4aa1ae2a-5509-40a4-973c-b6c3947d3b3c",
   "metadata": {},
   "outputs": [
    {
     "name": "stderr",
     "output_type": "stream",
     "text": [
      "/var/folders/tx/v4zzzx0x7735_gq8qjd1ddj00000gn/T/ipykernel_23124/2710875704.py:1: UserWarning: \n",
      "\n",
      "`distplot` is a deprecated function and will be removed in seaborn v0.14.0.\n",
      "\n",
      "Please adapt your code to use either `displot` (a figure-level function with\n",
      "similar flexibility) or `histplot` (an axes-level function for histograms).\n",
      "\n",
      "For a guide to updating your code to use the new functions, please see\n",
      "https://gist.github.com/mwaskom/de44147ed2974457ad6372750bbe5751\n",
      "\n",
      "  sns.distplot(listings_cleaned['price'], bins=25) # Shows extreme values\n",
      "/Users/tanayawinder/opt/anaconda3/lib/python3.11/site-packages/seaborn/_oldcore.py:1119: FutureWarning: use_inf_as_na option is deprecated and will be removed in a future version. Convert inf values to NaN before operating instead.\n",
      "  with pd.option_context('mode.use_inf_as_na', True):\n"
     ]
    },
    {
     "data": {
      "text/plain": [
       "<Axes: xlabel='price', ylabel='Density'>"
      ]
     },
     "execution_count": 22,
     "metadata": {},
     "output_type": "execute_result"
    },
    {
     "data": {
      "image/png": "[encoded data removed]",
      "text/plain": [
       "<Figure size 640x480 with 1 Axes>"
      ]
     },
     "metadata": {},
     "output_type": "display_data"
    }
   ],
   "source": [
    "sns.distplot(listings_cleaned['price'], bins=25) # Shows extreme values"
   ]
  },
  {
   "cell_type": "code",
   "execution_count": 23,
   "id": "66460615-4ab7-435a-ba29-081effdeb2e9",
   "metadata": {},
   "outputs": [
    {
     "data": {
      "text/plain": [
       "10000.0"
      ]
     },
     "execution_count": 23,
     "metadata": {},
     "output_type": "execute_result"
    }
   ],
   "source": [
    "listings_cleaned['price'].max() # Check the max"
   ]
  },
  {
   "cell_type": "code",
   "execution_count": 24,
   "id": "c9793449-663c-4629-b54d-8e4c833932e5",
   "metadata": {},
   "outputs": [],
   "source": [
    "# Suppress scientific notation\n",
    "pd.set_option('display.float_format', '{:.2f}'.format)"
   ]
  },
  {
   "cell_type": "code",
   "execution_count": 25,
   "id": "91755639-7bf5-47d2-a4f2-0f63b642e07d",
   "metadata": {},
   "outputs": [
    {
     "data": {
      "text/plain": [
       "count   832810.00\n",
       "mean       186.77\n",
       "std        164.30\n",
       "min         10.00\n",
       "25%         99.00\n",
       "50%        150.00\n",
       "75%        222.00\n",
       "max      10000.00\n",
       "Name: price, dtype: float64"
      ]
     },
     "execution_count": 25,
     "metadata": {},
     "output_type": "execute_result"
    }
   ],
   "source": [
    "listings_cleaned['price'].describe()"
   ]
  },
  {
   "cell_type": "markdown",
   "id": "ca5958ba-180d-4393-90e7-bbc82d49b9d7",
   "metadata": {},
   "source": [
    "The listings for the NYC region can vary widely, with Manhattan in particular having luxury homes and apartments that rent for upwards of 10,000. Although it is an outlier, it is accurate regarding the price range to be found in NYC."
   ]
  },
  {
   "cell_type": "code",
   "execution_count": 27,
   "id": "58bf4bdc-01ba-4121-9950-49db2c812517",
   "metadata": {},
   "outputs": [],
   "source": [
    "selected_columns = ['accommodates', 'bedrooms', 'bathrooms', 'review_scores_rating', 'price']\n",
    "df_analysis = listings_cleaned[selected_columns]"
   ]
  },
  {
   "cell_type": "code",
   "execution_count": 28,
   "id": "6dafca39-7cd4-4621-898a-36bf0a58a873",
   "metadata": {},
   "outputs": [
    {
     "data": {
      "text/plain": [
       "(832810, 51)"
      ]
     },
     "execution_count": 28,
     "metadata": {},
     "output_type": "execute_result"
    }
   ],
   "source": [
    "listings_cleaned.shape"
   ]
  },
  {
   "cell_type": "code",
   "execution_count": 29,
   "id": "3658b66b-ab37-4d4f-93cc-23ab438822a2",
   "metadata": {},
   "outputs": [
    {
     "data": {
      "text/plain": [
       "(832810, 5)"
      ]
     },
     "execution_count": 29,
     "metadata": {},
     "output_type": "execute_result"
    }
   ],
   "source": [
    "df_analysis.shape"
   ]
  },
  {
   "cell_type": "code",
   "execution_count": 30,
   "id": "08db3470-2e32-42d9-88e0-04c99dcf602f",
   "metadata": {},
   "outputs": [
    {
     "data": {
      "text/html": [
       "<div>\n",
       "<style scoped>\n",
       "    .dataframe tbody tr th:only-of-type {\n",
       "        vertical-align: middle;\n",
       "    }\n",
       "\n",
       "    .dataframe tbody tr th {\n",
       "        vertical-align: top;\n",
       "    }\n",
       "\n",
       "    .dataframe thead th {\n",
       "        text-align: right;\n",
       "    }\n",
       "</style>\n",
       "<table border=\"1\" class=\"dataframe\">\n",
       "  <thead>\n",
       "    <tr style=\"text-align: right;\">\n",
       "      <th></th>\n",
       "      <th>accommodates</th>\n",
       "      <th>bedrooms</th>\n",
       "      <th>bathrooms</th>\n",
       "      <th>review_scores_rating</th>\n",
       "      <th>price</th>\n",
       "    </tr>\n",
       "  </thead>\n",
       "  <tbody>\n",
       "    <tr>\n",
       "      <th>0</th>\n",
       "      <td>1</td>\n",
       "      <td>0.00</td>\n",
       "      <td>1.00</td>\n",
       "      <td>4.68</td>\n",
       "      <td>394.97</td>\n",
       "    </tr>\n",
       "    <tr>\n",
       "      <th>1</th>\n",
       "      <td>1</td>\n",
       "      <td>0.00</td>\n",
       "      <td>1.00</td>\n",
       "      <td>4.68</td>\n",
       "      <td>394.97</td>\n",
       "    </tr>\n",
       "    <tr>\n",
       "      <th>2</th>\n",
       "      <td>1</td>\n",
       "      <td>0.00</td>\n",
       "      <td>1.00</td>\n",
       "      <td>4.68</td>\n",
       "      <td>394.97</td>\n",
       "    </tr>\n",
       "    <tr>\n",
       "      <th>3</th>\n",
       "      <td>1</td>\n",
       "      <td>0.00</td>\n",
       "      <td>1.00</td>\n",
       "      <td>4.68</td>\n",
       "      <td>394.97</td>\n",
       "    </tr>\n",
       "    <tr>\n",
       "      <th>4</th>\n",
       "      <td>1</td>\n",
       "      <td>0.00</td>\n",
       "      <td>1.00</td>\n",
       "      <td>4.68</td>\n",
       "      <td>394.97</td>\n",
       "    </tr>\n",
       "  </tbody>\n",
       "</table>\n",
       "</div>"
      ],
      "text/plain": [
       "   accommodates  bedrooms  bathrooms  review_scores_rating  price\n",
       "0             1      0.00       1.00                  4.68 394.97\n",
       "1             1      0.00       1.00                  4.68 394.97\n",
       "2             1      0.00       1.00                  4.68 394.97\n",
       "3             1      0.00       1.00                  4.68 394.97\n",
       "4             1      0.00       1.00                  4.68 394.97"
      ]
     },
     "execution_count": 30,
     "metadata": {},
     "output_type": "execute_result"
    }
   ],
   "source": [
    "df_analysis.head()"
   ]
  },
  {
   "cell_type": "markdown",
   "id": "aff99c0b-6ee3-411c-929d-733ce1960be6",
   "metadata": {},
   "source": [
    "## 05. Data prep for regression analysis"
   ]
  },
  {
   "cell_type": "code",
   "execution_count": 32,
   "id": "b9348dbf-072d-4f41-873e-a92fc8b51afc",
   "metadata": {},
   "outputs": [
    {
     "data": {
      "image/png": "[encoded data removed]",
      "text/plain": [
       "<Figure size 640x480 with 1 Axes>"
      ]
     },
     "metadata": {},
     "output_type": "display_data"
    }
   ],
   "source": [
    "# Create the scatter plot for 'accommodates' vs 'price'\n",
    "df_analysis.plot(x='price', y='bathrooms', style='o')\n",
    "\n",
    "# Fit a line (e.g., linear regression line)\n",
    "z = np.polyfit(df_analysis['price'], df_analysis['bathrooms'], 1)  # 1 for linear\n",
    "p = np.poly1d(z)\n",
    "plt.plot(df_analysis['price'], p(df_analysis['price']), color='red')\n",
    "\n",
    "# Add titles and labels\n",
    "plt.show()"
   ]
  },
  {
   "cell_type": "code",
   "execution_count": 33,
   "id": "40f137b0-c806-4db0-ace1-836cd8868a48",
   "metadata": {},
   "outputs": [],
   "source": [
    "# Reshape the variables into NumPy arrays and put them into separate objects.\n",
    "\n",
    "X = df_analysis['price'].values.reshape(-1,1)\n",
    "y = df_analysis['bathrooms'].values.reshape(-1,1)"
   ]
  },
  {
   "cell_type": "code",
   "execution_count": 34,
   "id": "84ef1074-bcbe-4b17-8de6-05424bd9fd21",
   "metadata": {},
   "outputs": [
    {
     "data": {
      "text/plain": [
       "array([[394.97],\n",
       "       [394.97],\n",
       "       [394.97],\n",
       "       ...,\n",
       "       [141.  ],\n",
       "       [141.  ],\n",
       "       [146.  ]])"
      ]
     },
     "execution_count": 34,
     "metadata": {},
     "output_type": "execute_result"
    }
   ],
   "source": [
    "X"
   ]
  },
  {
   "cell_type": "code",
   "execution_count": 35,
   "id": "3f6d3389-d70b-47e8-8d35-7bbf251358bd",
   "metadata": {},
   "outputs": [
    {
     "data": {
      "text/plain": [
       "array([[1.],\n",
       "       [1.],\n",
       "       [1.],\n",
       "       ...,\n",
       "       [1.],\n",
       "       [1.],\n",
       "       [1.]])"
      ]
     },
     "execution_count": 35,
     "metadata": {},
     "output_type": "execute_result"
    }
   ],
   "source": [
    "y"
   ]
  },
  {
   "cell_type": "code",
   "execution_count": 36,
   "id": "5de34914-491d-49a0-8f39-ac7d54b1b1d8",
   "metadata": {},
   "outputs": [],
   "source": [
    "# Split data into a training set and a test set.\n",
    "\n",
    "X_train, X_test, y_train, y_test = train_test_split(X, y, test_size=0.3, random_state=0)"
   ]
  },
  {
   "cell_type": "markdown",
   "id": "030b2edd-272e-46e9-b466-efb553fca08b",
   "metadata": {},
   "source": [
    "## 06. Regression analysis"
   ]
  },
  {
   "cell_type": "code",
   "execution_count": 38,
   "id": "9a0199bb-60c0-40af-98ce-99551a3d24e9",
   "metadata": {},
   "outputs": [],
   "source": [
    "# Create a regression object.\n",
    "\n",
    "regression = LinearRegression()  # This is the regression object, which will be fit onto the training set."
   ]
  },
  {
   "cell_type": "code",
   "execution_count": 39,
   "id": "7f5d1481-f4de-4213-b7f5-75a1965ad994",
   "metadata": {},
   "outputs": [
    {
     "data": {
      "text/html": [
       "<style>#sk-container-id-1 {color: black;background-color: white;}#sk-container-id-1 pre{padding: 0;}#sk-container-id-1 div.sk-toggleable {background-color: white;}#sk-container-id-1 label.sk-toggleable__label {cursor: pointer;display: block;width: 100%;margin-bottom: 0;padding: 0.3em;box-sizing: border-box;text-align: center;}#sk-container-id-1 label.sk-toggleable__label-arrow:before {content: \"▸\";float: left;margin-right: 0.25em;color: #696969;}#sk-container-id-1 label.sk-toggleable__label-arrow:hover:before {color: black;}#sk-container-id-1 div.sk-estimator:hover label.sk-toggleable__label-arrow:before {color: black;}#sk-container-id-1 div.sk-toggleable__content {max-height: 0;max-width: 0;overflow: hidden;text-align: left;background-color: #f0f8ff;}#sk-container-id-1 div.sk-toggleable__content pre {margin: 0.2em;color: black;border-radius: 0.25em;background-color: #f0f8ff;}#sk-container-id-1 input.sk-toggleable__control:checked~div.sk-toggleable__content {max-height: 200px;max-width: 100%;overflow: auto;}#sk-container-id-1 input.sk-toggleable__control:checked~label.sk-toggleable__label-arrow:before {content: \"▾\";}#sk-container-id-1 div.sk-estimator input.sk-toggleable__control:checked~label.sk-toggleable__label {background-color: #d4ebff;}#sk-container-id-1 div.sk-label input.sk-toggleable__control:checked~label.sk-toggleable__label {background-color: #d4ebff;}#sk-container-id-1 input.sk-hidden--visually {border: 0;clip: rect(1px 1px 1px 1px);clip: rect(1px, 1px, 1px, 1px);height: 1px;margin: -1px;overflow: hidden;padding: 0;position: absolute;width: 1px;}#sk-container-id-1 div.sk-estimator {font-family: monospace;background-color: #f0f8ff;border: 1px dotted black;border-radius: 0.25em;box-sizing: border-box;margin-bottom: 0.5em;}#sk-container-id-1 div.sk-estimator:hover {background-color: #d4ebff;}#sk-container-id-1 div.sk-parallel-item::after {content: \"\";width: 100%;border-bottom: 1px solid gray;flex-grow: 1;}#sk-container-id-1 div.sk-label:hover label.sk-toggleable__label {background-color: #d4ebff;}#sk-container-id-1 div.sk-serial::before {content: \"\";position: absolute;border-left: 1px solid gray;box-sizing: border-box;top: 0;bottom: 0;left: 50%;z-index: 0;}#sk-container-id-1 div.sk-serial {display: flex;flex-direction: column;align-items: center;background-color: white;padding-right: 0.2em;padding-left: 0.2em;position: relative;}#sk-container-id-1 div.sk-item {position: relative;z-index: 1;}#sk-container-id-1 div.sk-parallel {display: flex;align-items: stretch;justify-content: center;background-color: white;position: relative;}#sk-container-id-1 div.sk-item::before, #sk-container-id-1 div.sk-parallel-item::before {content: \"\";position: absolute;border-left: 1px solid gray;box-sizing: border-box;top: 0;bottom: 0;left: 50%;z-index: -1;}#sk-container-id-1 div.sk-parallel-item {display: flex;flex-direction: column;z-index: 1;position: relative;background-color: white;}#sk-container-id-1 div.sk-parallel-item:first-child::after {align-self: flex-end;width: 50%;}#sk-container-id-1 div.sk-parallel-item:last-child::after {align-self: flex-start;width: 50%;}#sk-container-id-1 div.sk-parallel-item:only-child::after {width: 0;}#sk-container-id-1 div.sk-dashed-wrapped {border: 1px dashed gray;margin: 0 0.4em 0.5em 0.4em;box-sizing: border-box;padding-bottom: 0.4em;background-color: white;}#sk-container-id-1 div.sk-label label {font-family: monospace;font-weight: bold;display: inline-block;line-height: 1.2em;}#sk-container-id-1 div.sk-label-container {text-align: center;}#sk-container-id-1 div.sk-container {/* jupyter's `normalize.less` sets `[hidden] { display: none; }` but bootstrap.min.css set `[hidden] { display: none !important; }` so we also need the `!important` here to be able to override the default hidden behavior on the sphinx rendered scikit-learn.org. See: https://github.com/scikit-learn/scikit-learn/issues/21755 */display: inline-block !important;position: relative;}#sk-container-id-1 div.sk-text-repr-fallback {display: none;}</style><div id=\"sk-container-id-1\" class=\"sk-top-container\"><div class=\"sk-text-repr-fallback\"><pre>LinearRegression()</pre><b>In a Jupyter environment, please rerun this cell to show the HTML representation or trust the notebook. <br />On GitHub, the HTML representation is unable to render, please try loading this page with nbviewer.org.</b></div><div class=\"sk-container\" hidden><div class=\"sk-item\"><div class=\"sk-estimator sk-toggleable\"><input class=\"sk-toggleable__control sk-hidden--visually\" id=\"sk-estimator-id-1\" type=\"checkbox\" checked><label for=\"sk-estimator-id-1\" class=\"sk-toggleable__label sk-toggleable__label-arrow\">LinearRegression</label><div class=\"sk-toggleable__content\"><pre>LinearRegression()</pre></div></div></div></div></div>"
      ],
      "text/plain": [
       "LinearRegression()"
      ]
     },
     "execution_count": 39,
     "metadata": {},
     "output_type": "execute_result"
    }
   ],
   "source": [
    "# Fit the regression object onto the training set.\n",
    "\n",
    "regression.fit(X_train, y_train)"
   ]
  },
  {
   "cell_type": "code",
   "execution_count": 40,
   "id": "b787d73b-cdfe-4a77-a531-518d2c7461b9",
   "metadata": {},
   "outputs": [],
   "source": [
    "# Predict the values of y using X.\n",
    "\n",
    "y_predicted = regression.predict(X_test)"
   ]
  },
  {
   "cell_type": "code",
   "execution_count": 41,
   "id": "7409119a-06f1-476c-a7ca-179215dc9af1",
   "metadata": {},
   "outputs": [
    {
     "data": {
      "image/png": "[encoded data removed]",
      "text/plain": [
       "<Figure size 640x480 with 1 Axes>"
      ]
     },
     "metadata": {},
     "output_type": "display_data"
    }
   ],
   "source": [
    "# Create a plot that shows the regression line from the model on the test set.\n",
    "\n",
    "plot_test = plt\n",
    "plot_test.scatter(X_test, y_test, color='gray', s = 15)\n",
    "plot_test.plot(X_test, y_predicted, color='red', linewidth =3)\n",
    "plot_test.title('Bathrooms vs Price')\n",
    "plot_test.xlabel('price')\n",
    "plot_test.ylabel('bathrooms')\n",
    "plot_test.show()"
   ]
  },
  {
   "cell_type": "code",
   "execution_count": 42,
   "id": "add667e1-ae8d-4a3d-ad9c-428691886942",
   "metadata": {},
   "outputs": [],
   "source": [
    "# Create objects that contain the model summary statistics.\n",
    "\n",
    "rmse = mean_squared_error(y_test, y_predicted) # This is the mean squared error\n",
    "r2 = r2_score(y_test, y_predicted) # This is the R2 score. "
   ]
  },
  {
   "cell_type": "code",
   "execution_count": 43,
   "id": "704daea3-acb2-4c0c-9f77-5f5473376e73",
   "metadata": {},
   "outputs": [
    {
     "name": "stdout",
     "output_type": "stream",
     "text": [
      "Slope: [[0.0007744]]\n",
      "Mean squared error:  0.13226425918829\n",
      "R2 score:  0.1068104333101193\n"
     ]
    }
   ],
   "source": [
    "# Print the model summary statistics. This is where you evaluate the performance of the model.\n",
    "\n",
    "print('Slope:' ,regression.coef_)\n",
    "print('Mean squared error: ', rmse)\n",
    "print('R2 score: ', r2)"
   ]
  },
  {
   "cell_type": "code",
   "execution_count": 44,
   "id": "99390927-cde4-4fd4-bdae-05cc606b3d5d",
   "metadata": {},
   "outputs": [
    {
     "data": {
      "text/plain": [
       "array([[1.06659348],\n",
       "       [1.07356304],\n",
       "       [1.08982534],\n",
       "       ...,\n",
       "       [1.01625779],\n",
       "       [1.22457011],\n",
       "       [1.06272151]])"
      ]
     },
     "execution_count": 44,
     "metadata": {},
     "output_type": "execute_result"
    }
   ],
   "source": [
    "y_predicted"
   ]
  },
  {
   "cell_type": "code",
   "execution_count": 45,
   "id": "75299c53-010d-4d51-a132-fd03887df729",
   "metadata": {},
   "outputs": [
    {
     "data": {
      "text/html": [
       "<div>\n",
       "<style scoped>\n",
       "    .dataframe tbody tr th:only-of-type {\n",
       "        vertical-align: middle;\n",
       "    }\n",
       "\n",
       "    .dataframe tbody tr th {\n",
       "        vertical-align: top;\n",
       "    }\n",
       "\n",
       "    .dataframe thead th {\n",
       "        text-align: right;\n",
       "    }\n",
       "</style>\n",
       "<table border=\"1\" class=\"dataframe\">\n",
       "  <thead>\n",
       "    <tr style=\"text-align: right;\">\n",
       "      <th></th>\n",
       "      <th>Actual</th>\n",
       "      <th>Predicted</th>\n",
       "    </tr>\n",
       "  </thead>\n",
       "  <tbody>\n",
       "    <tr>\n",
       "      <th>0</th>\n",
       "      <td>1.00</td>\n",
       "      <td>1.07</td>\n",
       "    </tr>\n",
       "    <tr>\n",
       "      <th>1</th>\n",
       "      <td>1.00</td>\n",
       "      <td>1.07</td>\n",
       "    </tr>\n",
       "    <tr>\n",
       "      <th>2</th>\n",
       "      <td>1.00</td>\n",
       "      <td>1.09</td>\n",
       "    </tr>\n",
       "    <tr>\n",
       "      <th>3</th>\n",
       "      <td>1.00</td>\n",
       "      <td>1.11</td>\n",
       "    </tr>\n",
       "    <tr>\n",
       "      <th>4</th>\n",
       "      <td>1.00</td>\n",
       "      <td>1.08</td>\n",
       "    </tr>\n",
       "    <tr>\n",
       "      <th>5</th>\n",
       "      <td>1.00</td>\n",
       "      <td>1.09</td>\n",
       "    </tr>\n",
       "    <tr>\n",
       "      <th>6</th>\n",
       "      <td>1.00</td>\n",
       "      <td>1.08</td>\n",
       "    </tr>\n",
       "    <tr>\n",
       "      <th>7</th>\n",
       "      <td>1.00</td>\n",
       "      <td>1.05</td>\n",
       "    </tr>\n",
       "    <tr>\n",
       "      <th>8</th>\n",
       "      <td>1.00</td>\n",
       "      <td>1.20</td>\n",
       "    </tr>\n",
       "    <tr>\n",
       "      <th>9</th>\n",
       "      <td>1.00</td>\n",
       "      <td>1.03</td>\n",
       "    </tr>\n",
       "    <tr>\n",
       "      <th>10</th>\n",
       "      <td>1.00</td>\n",
       "      <td>1.03</td>\n",
       "    </tr>\n",
       "    <tr>\n",
       "      <th>11</th>\n",
       "      <td>1.00</td>\n",
       "      <td>1.04</td>\n",
       "    </tr>\n",
       "    <tr>\n",
       "      <th>12</th>\n",
       "      <td>1.00</td>\n",
       "      <td>1.13</td>\n",
       "    </tr>\n",
       "    <tr>\n",
       "      <th>13</th>\n",
       "      <td>1.00</td>\n",
       "      <td>1.20</td>\n",
       "    </tr>\n",
       "    <tr>\n",
       "      <th>14</th>\n",
       "      <td>1.00</td>\n",
       "      <td>1.05</td>\n",
       "    </tr>\n",
       "    <tr>\n",
       "      <th>15</th>\n",
       "      <td>1.00</td>\n",
       "      <td>1.29</td>\n",
       "    </tr>\n",
       "    <tr>\n",
       "      <th>16</th>\n",
       "      <td>1.00</td>\n",
       "      <td>1.03</td>\n",
       "    </tr>\n",
       "    <tr>\n",
       "      <th>17</th>\n",
       "      <td>1.00</td>\n",
       "      <td>1.03</td>\n",
       "    </tr>\n",
       "    <tr>\n",
       "      <th>18</th>\n",
       "      <td>1.00</td>\n",
       "      <td>1.03</td>\n",
       "    </tr>\n",
       "    <tr>\n",
       "      <th>19</th>\n",
       "      <td>1.00</td>\n",
       "      <td>1.00</td>\n",
       "    </tr>\n",
       "    <tr>\n",
       "      <th>20</th>\n",
       "      <td>1.00</td>\n",
       "      <td>1.03</td>\n",
       "    </tr>\n",
       "    <tr>\n",
       "      <th>21</th>\n",
       "      <td>1.00</td>\n",
       "      <td>1.00</td>\n",
       "    </tr>\n",
       "    <tr>\n",
       "      <th>22</th>\n",
       "      <td>1.50</td>\n",
       "      <td>1.07</td>\n",
       "    </tr>\n",
       "    <tr>\n",
       "      <th>23</th>\n",
       "      <td>1.50</td>\n",
       "      <td>1.05</td>\n",
       "    </tr>\n",
       "    <tr>\n",
       "      <th>24</th>\n",
       "      <td>1.00</td>\n",
       "      <td>1.11</td>\n",
       "    </tr>\n",
       "    <tr>\n",
       "      <th>25</th>\n",
       "      <td>1.00</td>\n",
       "      <td>1.09</td>\n",
       "    </tr>\n",
       "    <tr>\n",
       "      <th>26</th>\n",
       "      <td>1.00</td>\n",
       "      <td>1.07</td>\n",
       "    </tr>\n",
       "    <tr>\n",
       "      <th>27</th>\n",
       "      <td>1.00</td>\n",
       "      <td>1.02</td>\n",
       "    </tr>\n",
       "    <tr>\n",
       "      <th>28</th>\n",
       "      <td>1.00</td>\n",
       "      <td>1.10</td>\n",
       "    </tr>\n",
       "    <tr>\n",
       "      <th>29</th>\n",
       "      <td>1.00</td>\n",
       "      <td>1.02</td>\n",
       "    </tr>\n",
       "  </tbody>\n",
       "</table>\n",
       "</div>"
      ],
      "text/plain": [
       "    Actual  Predicted\n",
       "0     1.00       1.07\n",
       "1     1.00       1.07\n",
       "2     1.00       1.09\n",
       "3     1.00       1.11\n",
       "4     1.00       1.08\n",
       "5     1.00       1.09\n",
       "6     1.00       1.08\n",
       "7     1.00       1.05\n",
       "8     1.00       1.20\n",
       "9     1.00       1.03\n",
       "10    1.00       1.03\n",
       "11    1.00       1.04\n",
       "12    1.00       1.13\n",
       "13    1.00       1.20\n",
       "14    1.00       1.05\n",
       "15    1.00       1.29\n",
       "16    1.00       1.03\n",
       "17    1.00       1.03\n",
       "18    1.00       1.03\n",
       "19    1.00       1.00\n",
       "20    1.00       1.03\n",
       "21    1.00       1.00\n",
       "22    1.50       1.07\n",
       "23    1.50       1.05\n",
       "24    1.00       1.11\n",
       "25    1.00       1.09\n",
       "26    1.00       1.07\n",
       "27    1.00       1.02\n",
       "28    1.00       1.10\n",
       "29    1.00       1.02"
      ]
     },
     "execution_count": 45,
     "metadata": {},
     "output_type": "execute_result"
    }
   ],
   "source": [
    "# Create a dataframe comparing the actual and predicted values of y.\n",
    "\n",
    "data = pd.DataFrame({'Actual': y_test.flatten(), 'Predicted': y_predicted.flatten()})\n",
    "data.head(30)"
   ]
  },
  {
   "cell_type": "code",
   "execution_count": 46,
   "id": "9047a644-e37c-45cd-bde7-a6d990a4ca6b",
   "metadata": {},
   "outputs": [],
   "source": [
    "# Predict.\n",
    "\n",
    "y_predicted_train = regression.predict(X_train) # This is predicting X_train!"
   ]
  },
  {
   "cell_type": "code",
   "execution_count": 47,
   "id": "1c01a665-1bba-499a-9e9f-f664a0b3e448",
   "metadata": {},
   "outputs": [],
   "source": [
    "rmse = mean_squared_error(y_train, y_predicted_train)\n",
    "r2 = r2_score(y_train, y_predicted_train)"
   ]
  },
  {
   "cell_type": "code",
   "execution_count": 48,
   "id": "f9f4bcd3-8a47-4bcb-9f87-67ffcda31fb1",
   "metadata": {},
   "outputs": [
    {
     "name": "stdout",
     "output_type": "stream",
     "text": [
      "Slope: [[0.0007744]]\n",
      "Mean squared error:  0.13218867193568398\n",
      "R2 score:  0.10879452385174615\n"
     ]
    }
   ],
   "source": [
    "print('Slope:' ,regression.coef_)\n",
    "print('Mean squared error: ', rmse)\n",
    "print('R2 score: ', r2)"
   ]
  },
  {
   "cell_type": "code",
   "execution_count": 49,
   "id": "858afdb8-4b78-423b-af27-be9070bf819d",
   "metadata": {},
   "outputs": [
    {
     "data": {
      "image/png": "[encoded data removed]",
      "text/plain": [
       "<Figure size 640x480 with 1 Axes>"
      ]
     },
     "metadata": {},
     "output_type": "display_data"
    }
   ],
   "source": [
    "# Visualizing the training set results.\n",
    "\n",
    "plot_test = plt\n",
    "plot_test.scatter(X_train, y_train, color='green', s = 15)\n",
    "plot_test.plot(X_train, y_predicted_train, color='red', linewidth =3)\n",
    "plot_test.title('Number of Bathrooms vs Price (Train set)')\n",
    "plot_test.xlabel('Number of Bathrooms')\n",
    "plot_test.ylabel('Price')\n",
    "plot_test.show()"
   ]
  },
  {
   "cell_type": "code",
   "execution_count": 50,
   "id": "f48731a4-d3b1-47e7-9884-fa4da622231a",
   "metadata": {},
   "outputs": [
    {
     "data": {
      "text/html": [
       "<div>\n",
       "<style scoped>\n",
       "    .dataframe tbody tr th:only-of-type {\n",
       "        vertical-align: middle;\n",
       "    }\n",
       "\n",
       "    .dataframe tbody tr th {\n",
       "        vertical-align: top;\n",
       "    }\n",
       "\n",
       "    .dataframe thead th {\n",
       "        text-align: right;\n",
       "    }\n",
       "</style>\n",
       "<table border=\"1\" class=\"dataframe\">\n",
       "  <thead>\n",
       "    <tr style=\"text-align: right;\">\n",
       "      <th></th>\n",
       "      <th>Actual</th>\n",
       "      <th>Predicted</th>\n",
       "    </tr>\n",
       "  </thead>\n",
       "  <tbody>\n",
       "    <tr>\n",
       "      <th>0</th>\n",
       "      <td>1.00</td>\n",
       "      <td>1.07</td>\n",
       "    </tr>\n",
       "    <tr>\n",
       "      <th>1</th>\n",
       "      <td>1.00</td>\n",
       "      <td>1.07</td>\n",
       "    </tr>\n",
       "    <tr>\n",
       "      <th>2</th>\n",
       "      <td>1.00</td>\n",
       "      <td>1.09</td>\n",
       "    </tr>\n",
       "    <tr>\n",
       "      <th>3</th>\n",
       "      <td>1.00</td>\n",
       "      <td>1.11</td>\n",
       "    </tr>\n",
       "    <tr>\n",
       "      <th>4</th>\n",
       "      <td>1.00</td>\n",
       "      <td>1.08</td>\n",
       "    </tr>\n",
       "    <tr>\n",
       "      <th>5</th>\n",
       "      <td>1.00</td>\n",
       "      <td>1.09</td>\n",
       "    </tr>\n",
       "    <tr>\n",
       "      <th>6</th>\n",
       "      <td>1.00</td>\n",
       "      <td>1.08</td>\n",
       "    </tr>\n",
       "    <tr>\n",
       "      <th>7</th>\n",
       "      <td>1.00</td>\n",
       "      <td>1.05</td>\n",
       "    </tr>\n",
       "    <tr>\n",
       "      <th>8</th>\n",
       "      <td>1.00</td>\n",
       "      <td>1.20</td>\n",
       "    </tr>\n",
       "    <tr>\n",
       "      <th>9</th>\n",
       "      <td>1.00</td>\n",
       "      <td>1.03</td>\n",
       "    </tr>\n",
       "    <tr>\n",
       "      <th>10</th>\n",
       "      <td>1.00</td>\n",
       "      <td>1.03</td>\n",
       "    </tr>\n",
       "    <tr>\n",
       "      <th>11</th>\n",
       "      <td>1.00</td>\n",
       "      <td>1.04</td>\n",
       "    </tr>\n",
       "    <tr>\n",
       "      <th>12</th>\n",
       "      <td>1.00</td>\n",
       "      <td>1.13</td>\n",
       "    </tr>\n",
       "    <tr>\n",
       "      <th>13</th>\n",
       "      <td>1.00</td>\n",
       "      <td>1.20</td>\n",
       "    </tr>\n",
       "    <tr>\n",
       "      <th>14</th>\n",
       "      <td>1.00</td>\n",
       "      <td>1.05</td>\n",
       "    </tr>\n",
       "    <tr>\n",
       "      <th>15</th>\n",
       "      <td>1.00</td>\n",
       "      <td>1.29</td>\n",
       "    </tr>\n",
       "    <tr>\n",
       "      <th>16</th>\n",
       "      <td>1.00</td>\n",
       "      <td>1.03</td>\n",
       "    </tr>\n",
       "    <tr>\n",
       "      <th>17</th>\n",
       "      <td>1.00</td>\n",
       "      <td>1.03</td>\n",
       "    </tr>\n",
       "    <tr>\n",
       "      <th>18</th>\n",
       "      <td>1.00</td>\n",
       "      <td>1.03</td>\n",
       "    </tr>\n",
       "    <tr>\n",
       "      <th>19</th>\n",
       "      <td>1.00</td>\n",
       "      <td>1.00</td>\n",
       "    </tr>\n",
       "    <tr>\n",
       "      <th>20</th>\n",
       "      <td>1.00</td>\n",
       "      <td>1.03</td>\n",
       "    </tr>\n",
       "    <tr>\n",
       "      <th>21</th>\n",
       "      <td>1.00</td>\n",
       "      <td>1.00</td>\n",
       "    </tr>\n",
       "    <tr>\n",
       "      <th>22</th>\n",
       "      <td>1.50</td>\n",
       "      <td>1.07</td>\n",
       "    </tr>\n",
       "    <tr>\n",
       "      <th>23</th>\n",
       "      <td>1.50</td>\n",
       "      <td>1.05</td>\n",
       "    </tr>\n",
       "    <tr>\n",
       "      <th>24</th>\n",
       "      <td>1.00</td>\n",
       "      <td>1.11</td>\n",
       "    </tr>\n",
       "    <tr>\n",
       "      <th>25</th>\n",
       "      <td>1.00</td>\n",
       "      <td>1.09</td>\n",
       "    </tr>\n",
       "    <tr>\n",
       "      <th>26</th>\n",
       "      <td>1.00</td>\n",
       "      <td>1.07</td>\n",
       "    </tr>\n",
       "    <tr>\n",
       "      <th>27</th>\n",
       "      <td>1.00</td>\n",
       "      <td>1.02</td>\n",
       "    </tr>\n",
       "    <tr>\n",
       "      <th>28</th>\n",
       "      <td>1.00</td>\n",
       "      <td>1.10</td>\n",
       "    </tr>\n",
       "    <tr>\n",
       "      <th>29</th>\n",
       "      <td>1.00</td>\n",
       "      <td>1.02</td>\n",
       "    </tr>\n",
       "  </tbody>\n",
       "</table>\n",
       "</div>"
      ],
      "text/plain": [
       "    Actual  Predicted\n",
       "0     1.00       1.07\n",
       "1     1.00       1.07\n",
       "2     1.00       1.09\n",
       "3     1.00       1.11\n",
       "4     1.00       1.08\n",
       "5     1.00       1.09\n",
       "6     1.00       1.08\n",
       "7     1.00       1.05\n",
       "8     1.00       1.20\n",
       "9     1.00       1.03\n",
       "10    1.00       1.03\n",
       "11    1.00       1.04\n",
       "12    1.00       1.13\n",
       "13    1.00       1.20\n",
       "14    1.00       1.05\n",
       "15    1.00       1.29\n",
       "16    1.00       1.03\n",
       "17    1.00       1.03\n",
       "18    1.00       1.03\n",
       "19    1.00       1.00\n",
       "20    1.00       1.03\n",
       "21    1.00       1.00\n",
       "22    1.50       1.07\n",
       "23    1.50       1.05\n",
       "24    1.00       1.11\n",
       "25    1.00       1.09\n",
       "26    1.00       1.07\n",
       "27    1.00       1.02\n",
       "28    1.00       1.10\n",
       "29    1.00       1.02"
      ]
     },
     "execution_count": 50,
     "metadata": {},
     "output_type": "execute_result"
    }
   ],
   "source": [
    "# Create a dataframe comparing the actual and predicted values of y.\n",
    "\n",
    "data_xtrain = pd.DataFrame({'Actual': X_train.flatten(), 'Predicted': X_train.flatten()})\n",
    "data.head(30)"
   ]
  },
  {
   "cell_type": "markdown",
   "id": "2feba736-f6e5-4586-a06b-c7af58379453",
   "metadata": {},
   "source": [
    "Room for improvement if max outlier is removed. Remove outlier and discuss accuracy of results (use submitted examples)."
   ]
  },
  {
   "cell_type": "markdown",
   "id": "0db31f18-02df-41eb-a464-cd9a0bacb20a",
   "metadata": {},
   "source": [
    "After analyzing the data, the slope (0.0007744) suggests a very weak positive relationship between the selected variables. MSE (0.132) shows that the points are still scattered far from the regression line. The R² score (0.11) indicates a poor fit, meaning the model explains very little of the variance in the data. Thus, this model is not suitable for accurate predictions. Room for improvement if max outlier is removed. "
   ]
  },
  {
   "cell_type": "markdown",
   "id": "ac49ac2b-ffba-4e3f-9755-950109fbc442",
   "metadata": {},
   "source": [
    "## 07. Remove outlier and retry model"
   ]
  },
  {
   "cell_type": "code",
   "execution_count": 54,
   "id": "1243e024-ca96-4a66-9da4-428f80d89b36",
   "metadata": {},
   "outputs": [
    {
     "data": {
      "text/html": [
       "<div>\n",
       "<style scoped>\n",
       "    .dataframe tbody tr th:only-of-type {\n",
       "        vertical-align: middle;\n",
       "    }\n",
       "\n",
       "    .dataframe tbody tr th {\n",
       "        vertical-align: top;\n",
       "    }\n",
       "\n",
       "    .dataframe thead th {\n",
       "        text-align: right;\n",
       "    }\n",
       "</style>\n",
       "<table border=\"1\" class=\"dataframe\">\n",
       "  <thead>\n",
       "    <tr style=\"text-align: right;\">\n",
       "      <th></th>\n",
       "      <th>accommodates</th>\n",
       "      <th>bedrooms</th>\n",
       "      <th>bathrooms</th>\n",
       "      <th>review_scores_rating</th>\n",
       "      <th>price</th>\n",
       "    </tr>\n",
       "  </thead>\n",
       "  <tbody>\n",
       "    <tr>\n",
       "      <th>count</th>\n",
       "      <td>832810.00</td>\n",
       "      <td>832810.00</td>\n",
       "      <td>832810.00</td>\n",
       "      <td>832810.00</td>\n",
       "      <td>832810.00</td>\n",
       "    </tr>\n",
       "    <tr>\n",
       "      <th>mean</th>\n",
       "      <td>2.97</td>\n",
       "      <td>1.29</td>\n",
       "      <td>1.11</td>\n",
       "      <td>4.78</td>\n",
       "      <td>186.77</td>\n",
       "    </tr>\n",
       "    <tr>\n",
       "      <th>std</th>\n",
       "      <td>1.92</td>\n",
       "      <td>0.81</td>\n",
       "      <td>0.39</td>\n",
       "      <td>0.19</td>\n",
       "      <td>164.30</td>\n",
       "    </tr>\n",
       "    <tr>\n",
       "      <th>min</th>\n",
       "      <td>1.00</td>\n",
       "      <td>0.00</td>\n",
       "      <td>0.00</td>\n",
       "      <td>0.00</td>\n",
       "      <td>10.00</td>\n",
       "    </tr>\n",
       "    <tr>\n",
       "      <th>25%</th>\n",
       "      <td>2.00</td>\n",
       "      <td>1.00</td>\n",
       "      <td>1.00</td>\n",
       "      <td>4.69</td>\n",
       "      <td>99.00</td>\n",
       "    </tr>\n",
       "    <tr>\n",
       "      <th>50%</th>\n",
       "      <td>2.00</td>\n",
       "      <td>1.00</td>\n",
       "      <td>1.00</td>\n",
       "      <td>4.82</td>\n",
       "      <td>150.00</td>\n",
       "    </tr>\n",
       "    <tr>\n",
       "      <th>75%</th>\n",
       "      <td>4.00</td>\n",
       "      <td>2.00</td>\n",
       "      <td>1.00</td>\n",
       "      <td>4.91</td>\n",
       "      <td>222.00</td>\n",
       "    </tr>\n",
       "    <tr>\n",
       "      <th>max</th>\n",
       "      <td>16.00</td>\n",
       "      <td>15.00</td>\n",
       "      <td>15.50</td>\n",
       "      <td>5.00</td>\n",
       "      <td>10000.00</td>\n",
       "    </tr>\n",
       "  </tbody>\n",
       "</table>\n",
       "</div>"
      ],
      "text/plain": [
       "       accommodates  bedrooms  bathrooms  review_scores_rating     price\n",
       "count     832810.00 832810.00  832810.00             832810.00 832810.00\n",
       "mean           2.97      1.29       1.11                  4.78    186.77\n",
       "std            1.92      0.81       0.39                  0.19    164.30\n",
       "min            1.00      0.00       0.00                  0.00     10.00\n",
       "25%            2.00      1.00       1.00                  4.69     99.00\n",
       "50%            2.00      1.00       1.00                  4.82    150.00\n",
       "75%            4.00      2.00       1.00                  4.91    222.00\n",
       "max           16.00     15.00      15.50                  5.00  10000.00"
      ]
     },
     "execution_count": 54,
     "metadata": {},
     "output_type": "execute_result"
    }
   ],
   "source": [
    "df_analysis.describe()"
   ]
  },
  {
   "cell_type": "code",
   "execution_count": 55,
   "id": "71273623-9d97-4dc6-982b-20cc55d4600b",
   "metadata": {},
   "outputs": [],
   "source": [
    "# Set option to display all columns\n",
    "pd.set_option('display.max_columns', None)"
   ]
  },
  {
   "cell_type": "code",
   "execution_count": 56,
   "id": "3b0777ba-a363-4a63-9bca-fba438c69b71",
   "metadata": {},
   "outputs": [
    {
     "data": {
      "text/html": [
       "<div>\n",
       "<style scoped>\n",
       "    .dataframe tbody tr th:only-of-type {\n",
       "        vertical-align: middle;\n",
       "    }\n",
       "\n",
       "    .dataframe tbody tr th {\n",
       "        vertical-align: top;\n",
       "    }\n",
       "\n",
       "    .dataframe thead th {\n",
       "        text-align: right;\n",
       "    }\n",
       "</style>\n",
       "<table border=\"1\" class=\"dataframe\">\n",
       "  <thead>\n",
       "    <tr style=\"text-align: right;\">\n",
       "      <th></th>\n",
       "      <th>reviews_in_last_year</th>\n",
       "      <th>host_response_time</th>\n",
       "      <th>host_response_rate</th>\n",
       "      <th>host_acceptance_rate</th>\n",
       "      <th>host_listings_count</th>\n",
       "      <th>latitude</th>\n",
       "      <th>longitude</th>\n",
       "      <th>accommodates</th>\n",
       "      <th>bathrooms</th>\n",
       "      <th>bedrooms</th>\n",
       "      <th>price</th>\n",
       "      <th>minimum_nights</th>\n",
       "      <th>maximum_nights</th>\n",
       "      <th>min_min_nights_allowed</th>\n",
       "      <th>max_min_nights_allowed</th>\n",
       "      <th>min_max_nights_allowed</th>\n",
       "      <th>max_max_nights_allowed</th>\n",
       "      <th>minimum_nights_avg_ntm</th>\n",
       "      <th>maximum_nights_avg_ntm</th>\n",
       "      <th>availability_30</th>\n",
       "      <th>availability_60</th>\n",
       "      <th>availability_90</th>\n",
       "      <th>availability_365</th>\n",
       "      <th>number_of_reviews</th>\n",
       "      <th>number_of_reviews_ltm</th>\n",
       "      <th>review_scores_rating</th>\n",
       "      <th>review_scores_accuracy</th>\n",
       "      <th>review_scores_cleanliness</th>\n",
       "      <th>review_scores_checkin</th>\n",
       "      <th>review_scores_communication</th>\n",
       "      <th>review_scores_location</th>\n",
       "      <th>review_scores_value</th>\n",
       "      <th>calculated_host_listings_count</th>\n",
       "      <th>calculated_host_listings_count_entire_homes</th>\n",
       "      <th>calculated_host_listings_count_private_rooms</th>\n",
       "      <th>calculated_host_listings_count_shared_rooms</th>\n",
       "      <th>reviews_per_month</th>\n",
       "      <th>date</th>\n",
       "    </tr>\n",
       "  </thead>\n",
       "  <tbody>\n",
       "    <tr>\n",
       "      <th>count</th>\n",
       "      <td>832810.00</td>\n",
       "      <td>832810.00</td>\n",
       "      <td>832810.00</td>\n",
       "      <td>832810.00</td>\n",
       "      <td>832810.00</td>\n",
       "      <td>832810.00</td>\n",
       "      <td>832810.00</td>\n",
       "      <td>832810.00</td>\n",
       "      <td>832810.00</td>\n",
       "      <td>832810.00</td>\n",
       "      <td>832810.00</td>\n",
       "      <td>832810.00</td>\n",
       "      <td>832810.00</td>\n",
       "      <td>832810.00</td>\n",
       "      <td>832810.00</td>\n",
       "      <td>832810.00</td>\n",
       "      <td>832810.00</td>\n",
       "      <td>832810.00</td>\n",
       "      <td>832810.00</td>\n",
       "      <td>832810.00</td>\n",
       "      <td>832810.00</td>\n",
       "      <td>832810.00</td>\n",
       "      <td>832810.00</td>\n",
       "      <td>832810.00</td>\n",
       "      <td>832810.00</td>\n",
       "      <td>832810.00</td>\n",
       "      <td>832810.00</td>\n",
       "      <td>832810.00</td>\n",
       "      <td>832810.00</td>\n",
       "      <td>832810.00</td>\n",
       "      <td>832810.00</td>\n",
       "      <td>832810.00</td>\n",
       "      <td>832810.00</td>\n",
       "      <td>832810.00</td>\n",
       "      <td>832810.00</td>\n",
       "      <td>832810.00</td>\n",
       "      <td>832810.00</td>\n",
       "      <td>832810</td>\n",
       "    </tr>\n",
       "    <tr>\n",
       "      <th>mean</th>\n",
       "      <td>20.20</td>\n",
       "      <td>7.06</td>\n",
       "      <td>93.32</td>\n",
       "      <td>88.29</td>\n",
       "      <td>7.53</td>\n",
       "      <td>40.72</td>\n",
       "      <td>-73.94</td>\n",
       "      <td>2.97</td>\n",
       "      <td>1.11</td>\n",
       "      <td>1.29</td>\n",
       "      <td>186.77</td>\n",
       "      <td>23.23</td>\n",
       "      <td>533.32</td>\n",
       "      <td>22.94</td>\n",
       "      <td>24.00</td>\n",
       "      <td>730.48</td>\n",
       "      <td>2393692.49</td>\n",
       "      <td>23.43</td>\n",
       "      <td>1959697.44</td>\n",
       "      <td>10.39</td>\n",
       "      <td>25.82</td>\n",
       "      <td>42.27</td>\n",
       "      <td>187.39</td>\n",
       "      <td>158.14</td>\n",
       "      <td>20.20</td>\n",
       "      <td>4.78</td>\n",
       "      <td>4.83</td>\n",
       "      <td>4.75</td>\n",
       "      <td>4.88</td>\n",
       "      <td>4.87</td>\n",
       "      <td>4.75</td>\n",
       "      <td>4.73</td>\n",
       "      <td>5.30</td>\n",
       "      <td>2.70</td>\n",
       "      <td>2.49</td>\n",
       "      <td>0.03</td>\n",
       "      <td>2.57</td>\n",
       "      <td>2020-11-24 03:36:40.719971584</td>\n",
       "    </tr>\n",
       "    <tr>\n",
       "      <th>min</th>\n",
       "      <td>0.00</td>\n",
       "      <td>1.00</td>\n",
       "      <td>0.00</td>\n",
       "      <td>0.00</td>\n",
       "      <td>1.00</td>\n",
       "      <td>40.50</td>\n",
       "      <td>-74.25</td>\n",
       "      <td>1.00</td>\n",
       "      <td>0.00</td>\n",
       "      <td>0.00</td>\n",
       "      <td>10.00</td>\n",
       "      <td>1.00</td>\n",
       "      <td>1.00</td>\n",
       "      <td>1.00</td>\n",
       "      <td>1.00</td>\n",
       "      <td>1.00</td>\n",
       "      <td>1.00</td>\n",
       "      <td>1.00</td>\n",
       "      <td>1.00</td>\n",
       "      <td>0.00</td>\n",
       "      <td>0.00</td>\n",
       "      <td>0.00</td>\n",
       "      <td>0.00</td>\n",
       "      <td>1.00</td>\n",
       "      <td>0.00</td>\n",
       "      <td>0.00</td>\n",
       "      <td>0.00</td>\n",
       "      <td>0.00</td>\n",
       "      <td>0.00</td>\n",
       "      <td>0.00</td>\n",
       "      <td>0.00</td>\n",
       "      <td>0.00</td>\n",
       "      <td>1.00</td>\n",
       "      <td>0.00</td>\n",
       "      <td>0.00</td>\n",
       "      <td>0.00</td>\n",
       "      <td>0.01</td>\n",
       "      <td>2009-05-25 00:00:00</td>\n",
       "    </tr>\n",
       "    <tr>\n",
       "      <th>25%</th>\n",
       "      <td>2.00</td>\n",
       "      <td>1.00</td>\n",
       "      <td>93.32</td>\n",
       "      <td>88.00</td>\n",
       "      <td>1.00</td>\n",
       "      <td>40.68</td>\n",
       "      <td>-73.98</td>\n",
       "      <td>2.00</td>\n",
       "      <td>1.00</td>\n",
       "      <td>1.00</td>\n",
       "      <td>99.00</td>\n",
       "      <td>3.00</td>\n",
       "      <td>60.00</td>\n",
       "      <td>3.00</td>\n",
       "      <td>4.00</td>\n",
       "      <td>90.00</td>\n",
       "      <td>120.00</td>\n",
       "      <td>3.30</td>\n",
       "      <td>100.00</td>\n",
       "      <td>0.00</td>\n",
       "      <td>3.00</td>\n",
       "      <td>10.00</td>\n",
       "      <td>77.00</td>\n",
       "      <td>50.00</td>\n",
       "      <td>2.00</td>\n",
       "      <td>4.69</td>\n",
       "      <td>4.77</td>\n",
       "      <td>4.66</td>\n",
       "      <td>4.84</td>\n",
       "      <td>4.83</td>\n",
       "      <td>4.65</td>\n",
       "      <td>4.65</td>\n",
       "      <td>1.00</td>\n",
       "      <td>0.00</td>\n",
       "      <td>0.00</td>\n",
       "      <td>0.00</td>\n",
       "      <td>0.99</td>\n",
       "      <td>2018-12-03 00:00:00</td>\n",
       "    </tr>\n",
       "    <tr>\n",
       "      <th>50%</th>\n",
       "      <td>10.00</td>\n",
       "      <td>1.00</td>\n",
       "      <td>100.00</td>\n",
       "      <td>96.00</td>\n",
       "      <td>2.00</td>\n",
       "      <td>40.71</td>\n",
       "      <td>-73.95</td>\n",
       "      <td>2.00</td>\n",
       "      <td>1.00</td>\n",
       "      <td>1.00</td>\n",
       "      <td>150.00</td>\n",
       "      <td>30.00</td>\n",
       "      <td>365.00</td>\n",
       "      <td>30.00</td>\n",
       "      <td>30.00</td>\n",
       "      <td>1125.00</td>\n",
       "      <td>1125.00</td>\n",
       "      <td>30.00</td>\n",
       "      <td>1125.00</td>\n",
       "      <td>4.00</td>\n",
       "      <td>22.00</td>\n",
       "      <td>38.00</td>\n",
       "      <td>180.00</td>\n",
       "      <td>115.00</td>\n",
       "      <td>10.00</td>\n",
       "      <td>4.82</td>\n",
       "      <td>4.87</td>\n",
       "      <td>4.81</td>\n",
       "      <td>4.92</td>\n",
       "      <td>4.92</td>\n",
       "      <td>4.79</td>\n",
       "      <td>4.77</td>\n",
       "      <td>1.00</td>\n",
       "      <td>1.00</td>\n",
       "      <td>0.00</td>\n",
       "      <td>0.00</td>\n",
       "      <td>1.91</td>\n",
       "      <td>2021-10-12 00:00:00</td>\n",
       "    </tr>\n",
       "    <tr>\n",
       "      <th>75%</th>\n",
       "      <td>22.00</td>\n",
       "      <td>7.06</td>\n",
       "      <td>100.00</td>\n",
       "      <td>100.00</td>\n",
       "      <td>3.00</td>\n",
       "      <td>40.76</td>\n",
       "      <td>-73.92</td>\n",
       "      <td>4.00</td>\n",
       "      <td>1.00</td>\n",
       "      <td>2.00</td>\n",
       "      <td>222.00</td>\n",
       "      <td>30.00</td>\n",
       "      <td>1125.00</td>\n",
       "      <td>30.00</td>\n",
       "      <td>30.00</td>\n",
       "      <td>1125.00</td>\n",
       "      <td>1125.00</td>\n",
       "      <td>30.00</td>\n",
       "      <td>1125.00</td>\n",
       "      <td>22.00</td>\n",
       "      <td>48.00</td>\n",
       "      <td>75.00</td>\n",
       "      <td>308.00</td>\n",
       "      <td>215.00</td>\n",
       "      <td>22.00</td>\n",
       "      <td>4.91</td>\n",
       "      <td>4.93</td>\n",
       "      <td>4.91</td>\n",
       "      <td>4.96</td>\n",
       "      <td>4.97</td>\n",
       "      <td>4.90</td>\n",
       "      <td>4.85</td>\n",
       "      <td>3.00</td>\n",
       "      <td>1.00</td>\n",
       "      <td>1.00</td>\n",
       "      <td>0.00</td>\n",
       "      <td>3.06</td>\n",
       "      <td>2023-03-12 00:00:00</td>\n",
       "    </tr>\n",
       "    <tr>\n",
       "      <th>max</th>\n",
       "      <td>1568.00</td>\n",
       "      <td>72.00</td>\n",
       "      <td>100.00</td>\n",
       "      <td>100.00</td>\n",
       "      <td>4641.00</td>\n",
       "      <td>40.91</td>\n",
       "      <td>-73.71</td>\n",
       "      <td>16.00</td>\n",
       "      <td>15.50</td>\n",
       "      <td>15.00</td>\n",
       "      <td>10000.00</td>\n",
       "      <td>1250.00</td>\n",
       "      <td>20000000.00</td>\n",
       "      <td>1250.00</td>\n",
       "      <td>1250.00</td>\n",
       "      <td>20000000.00</td>\n",
       "      <td>2147483647.00</td>\n",
       "      <td>1250.00</td>\n",
       "      <td>2137448681.90</td>\n",
       "      <td>30.00</td>\n",
       "      <td>60.00</td>\n",
       "      <td>90.00</td>\n",
       "      <td>365.00</td>\n",
       "      <td>1915.00</td>\n",
       "      <td>1568.00</td>\n",
       "      <td>5.00</td>\n",
       "      <td>5.00</td>\n",
       "      <td>5.00</td>\n",
       "      <td>5.00</td>\n",
       "      <td>5.00</td>\n",
       "      <td>5.00</td>\n",
       "      <td>5.00</td>\n",
       "      <td>842.00</td>\n",
       "      <td>842.00</td>\n",
       "      <td>691.00</td>\n",
       "      <td>13.00</td>\n",
       "      <td>103.53</td>\n",
       "      <td>2024-07-05 00:00:00</td>\n",
       "    </tr>\n",
       "    <tr>\n",
       "      <th>std</th>\n",
       "      <td>55.11</td>\n",
       "      <td>13.96</td>\n",
       "      <td>17.60</td>\n",
       "      <td>19.59</td>\n",
       "      <td>77.30</td>\n",
       "      <td>0.06</td>\n",
       "      <td>0.06</td>\n",
       "      <td>1.92</td>\n",
       "      <td>0.39</td>\n",
       "      <td>0.81</td>\n",
       "      <td>164.30</td>\n",
       "      <td>22.25</td>\n",
       "      <td>21920.62</td>\n",
       "      <td>21.88</td>\n",
       "      <td>28.60</td>\n",
       "      <td>21920.63</td>\n",
       "      <td>71645499.46</td>\n",
       "      <td>23.50</td>\n",
       "      <td>62103172.57</td>\n",
       "      <td>11.61</td>\n",
       "      <td>22.26</td>\n",
       "      <td>32.93</td>\n",
       "      <td>125.11</td>\n",
       "      <td>163.90</td>\n",
       "      <td>55.11</td>\n",
       "      <td>0.19</td>\n",
       "      <td>0.17</td>\n",
       "      <td>0.23</td>\n",
       "      <td>0.14</td>\n",
       "      <td>0.16</td>\n",
       "      <td>0.20</td>\n",
       "      <td>0.19</td>\n",
       "      <td>21.11</td>\n",
       "      <td>15.72</td>\n",
       "      <td>12.89</td>\n",
       "      <td>0.25</td>\n",
       "      <td>4.09</td>\n",
       "      <td>NaN</td>\n",
       "    </tr>\n",
       "  </tbody>\n",
       "</table>\n",
       "</div>"
      ],
      "text/plain": [
       "       reviews_in_last_year  host_response_time  host_response_rate  \\\n",
       "count             832810.00           832810.00           832810.00   \n",
       "mean                  20.20                7.06               93.32   \n",
       "min                    0.00                1.00                0.00   \n",
       "25%                    2.00                1.00               93.32   \n",
       "50%                   10.00                1.00              100.00   \n",
       "75%                   22.00                7.06              100.00   \n",
       "max                 1568.00               72.00              100.00   \n",
       "std                   55.11               13.96               17.60   \n",
       "\n",
       "       host_acceptance_rate  host_listings_count  latitude  longitude  \\\n",
       "count             832810.00            832810.00 832810.00  832810.00   \n",
       "mean                  88.29                 7.53     40.72     -73.94   \n",
       "min                    0.00                 1.00     40.50     -74.25   \n",
       "25%                   88.00                 1.00     40.68     -73.98   \n",
       "50%                   96.00                 2.00     40.71     -73.95   \n",
       "75%                  100.00                 3.00     40.76     -73.92   \n",
       "max                  100.00              4641.00     40.91     -73.71   \n",
       "std                   19.59                77.30      0.06       0.06   \n",
       "\n",
       "       accommodates  bathrooms  bedrooms     price  minimum_nights  \\\n",
       "count     832810.00  832810.00 832810.00 832810.00       832810.00   \n",
       "mean           2.97       1.11      1.29    186.77           23.23   \n",
       "min            1.00       0.00      0.00     10.00            1.00   \n",
       "25%            2.00       1.00      1.00     99.00            3.00   \n",
       "50%            2.00       1.00      1.00    150.00           30.00   \n",
       "75%            4.00       1.00      2.00    222.00           30.00   \n",
       "max           16.00      15.50     15.00  10000.00         1250.00   \n",
       "std            1.92       0.39      0.81    164.30           22.25   \n",
       "\n",
       "       maximum_nights  min_min_nights_allowed  max_min_nights_allowed  \\\n",
       "count       832810.00               832810.00               832810.00   \n",
       "mean           533.32                   22.94                   24.00   \n",
       "min              1.00                    1.00                    1.00   \n",
       "25%             60.00                    3.00                    4.00   \n",
       "50%            365.00                   30.00                   30.00   \n",
       "75%           1125.00                   30.00                   30.00   \n",
       "max       20000000.00                 1250.00                 1250.00   \n",
       "std          21920.62                   21.88                   28.60   \n",
       "\n",
       "       min_max_nights_allowed  max_max_nights_allowed  minimum_nights_avg_ntm  \\\n",
       "count               832810.00               832810.00               832810.00   \n",
       "mean                   730.48              2393692.49                   23.43   \n",
       "min                      1.00                    1.00                    1.00   \n",
       "25%                     90.00                  120.00                    3.30   \n",
       "50%                   1125.00                 1125.00                   30.00   \n",
       "75%                   1125.00                 1125.00                   30.00   \n",
       "max               20000000.00           2147483647.00                 1250.00   \n",
       "std                  21920.63             71645499.46                   23.50   \n",
       "\n",
       "       maximum_nights_avg_ntm  availability_30  availability_60  \\\n",
       "count               832810.00        832810.00        832810.00   \n",
       "mean               1959697.44            10.39            25.82   \n",
       "min                      1.00             0.00             0.00   \n",
       "25%                    100.00             0.00             3.00   \n",
       "50%                   1125.00             4.00            22.00   \n",
       "75%                   1125.00            22.00            48.00   \n",
       "max             2137448681.90            30.00            60.00   \n",
       "std               62103172.57            11.61            22.26   \n",
       "\n",
       "       availability_90  availability_365  number_of_reviews  \\\n",
       "count        832810.00         832810.00          832810.00   \n",
       "mean             42.27            187.39             158.14   \n",
       "min               0.00              0.00               1.00   \n",
       "25%              10.00             77.00              50.00   \n",
       "50%              38.00            180.00             115.00   \n",
       "75%              75.00            308.00             215.00   \n",
       "max              90.00            365.00            1915.00   \n",
       "std              32.93            125.11             163.90   \n",
       "\n",
       "       number_of_reviews_ltm  review_scores_rating  review_scores_accuracy  \\\n",
       "count              832810.00             832810.00               832810.00   \n",
       "mean                   20.20                  4.78                    4.83   \n",
       "min                     0.00                  0.00                    0.00   \n",
       "25%                     2.00                  4.69                    4.77   \n",
       "50%                    10.00                  4.82                    4.87   \n",
       "75%                    22.00                  4.91                    4.93   \n",
       "max                  1568.00                  5.00                    5.00   \n",
       "std                    55.11                  0.19                    0.17   \n",
       "\n",
       "       review_scores_cleanliness  review_scores_checkin  \\\n",
       "count                  832810.00              832810.00   \n",
       "mean                        4.75                   4.88   \n",
       "min                         0.00                   0.00   \n",
       "25%                         4.66                   4.84   \n",
       "50%                         4.81                   4.92   \n",
       "75%                         4.91                   4.96   \n",
       "max                         5.00                   5.00   \n",
       "std                         0.23                   0.14   \n",
       "\n",
       "       review_scores_communication  review_scores_location  \\\n",
       "count                    832810.00               832810.00   \n",
       "mean                          4.87                    4.75   \n",
       "min                           0.00                    0.00   \n",
       "25%                           4.83                    4.65   \n",
       "50%                           4.92                    4.79   \n",
       "75%                           4.97                    4.90   \n",
       "max                           5.00                    5.00   \n",
       "std                           0.16                    0.20   \n",
       "\n",
       "       review_scores_value  calculated_host_listings_count  \\\n",
       "count            832810.00                       832810.00   \n",
       "mean                  4.73                            5.30   \n",
       "min                   0.00                            1.00   \n",
       "25%                   4.65                            1.00   \n",
       "50%                   4.77                            1.00   \n",
       "75%                   4.85                            3.00   \n",
       "max                   5.00                          842.00   \n",
       "std                   0.19                           21.11   \n",
       "\n",
       "       calculated_host_listings_count_entire_homes  \\\n",
       "count                                    832810.00   \n",
       "mean                                          2.70   \n",
       "min                                           0.00   \n",
       "25%                                           0.00   \n",
       "50%                                           1.00   \n",
       "75%                                           1.00   \n",
       "max                                         842.00   \n",
       "std                                          15.72   \n",
       "\n",
       "       calculated_host_listings_count_private_rooms  \\\n",
       "count                                     832810.00   \n",
       "mean                                           2.49   \n",
       "min                                            0.00   \n",
       "25%                                            0.00   \n",
       "50%                                            0.00   \n",
       "75%                                            1.00   \n",
       "max                                          691.00   \n",
       "std                                           12.89   \n",
       "\n",
       "       calculated_host_listings_count_shared_rooms  reviews_per_month  \\\n",
       "count                                    832810.00          832810.00   \n",
       "mean                                          0.03               2.57   \n",
       "min                                           0.00               0.01   \n",
       "25%                                           0.00               0.99   \n",
       "50%                                           0.00               1.91   \n",
       "75%                                           0.00               3.06   \n",
       "max                                          13.00             103.53   \n",
       "std                                           0.25               4.09   \n",
       "\n",
       "                                date  \n",
       "count                         832810  \n",
       "mean   2020-11-24 03:36:40.719971584  \n",
       "min              2009-05-25 00:00:00  \n",
       "25%              2018-12-03 00:00:00  \n",
       "50%              2021-10-12 00:00:00  \n",
       "75%              2023-03-12 00:00:00  \n",
       "max              2024-07-05 00:00:00  \n",
       "std                              NaN  "
      ]
     },
     "execution_count": 56,
     "metadata": {},
     "output_type": "execute_result"
    }
   ],
   "source": [
    "listings_cleaned.describe()"
   ]
  },
  {
   "cell_type": "code",
   "execution_count": 57,
   "id": "9aa7c50d-c009-4069-b57a-3c3f11620065",
   "metadata": {},
   "outputs": [],
   "source": [
    "# Assuming 'listings' is your DataFrame\n",
    "listings_cleaned = listings_cleaned[listings_cleaned['price'] <= 9000]"
   ]
  },
  {
   "cell_type": "code",
   "execution_count": 58,
   "id": "02b877cd-c235-4649-ab9c-b0d4f8a0e51b",
   "metadata": {},
   "outputs": [],
   "source": [
    "# Assuming 'listings' is your DataFrame\n",
    "df_analysis = df_analysis[df_analysis['price'] <= 9000]"
   ]
  },
  {
   "cell_type": "code",
   "execution_count": 59,
   "id": "731c6c54-a935-4abf-8711-3565e6e1e03f",
   "metadata": {},
   "outputs": [],
   "source": [
    "# Reshape the variables into NumPy arrays and put them into separate objects.\n",
    "\n",
    "X = df_analysis['price'].values.reshape(-1,1)\n",
    "y = df_analysis['bathrooms'].values.reshape(-1,1)"
   ]
  },
  {
   "cell_type": "code",
   "execution_count": 60,
   "id": "96c0fd2b-3d81-4403-8410-014fa10d5d2f",
   "metadata": {},
   "outputs": [
    {
     "data": {
      "text/plain": [
       "array([[394.97],\n",
       "       [394.97],\n",
       "       [394.97],\n",
       "       ...,\n",
       "       [141.  ],\n",
       "       [141.  ],\n",
       "       [146.  ]])"
      ]
     },
     "execution_count": 60,
     "metadata": {},
     "output_type": "execute_result"
    }
   ],
   "source": [
    "X"
   ]
  },
  {
   "cell_type": "code",
   "execution_count": 61,
   "id": "4b2cfba9-c1d3-4a01-a893-373393d89e1f",
   "metadata": {},
   "outputs": [
    {
     "data": {
      "text/plain": [
       "array([[1.],\n",
       "       [1.],\n",
       "       [1.],\n",
       "       ...,\n",
       "       [1.],\n",
       "       [1.],\n",
       "       [1.]])"
      ]
     },
     "execution_count": 61,
     "metadata": {},
     "output_type": "execute_result"
    }
   ],
   "source": [
    "y"
   ]
  },
  {
   "cell_type": "code",
   "execution_count": 62,
   "id": "76e1570b-7dcd-4c09-ab32-13211c52b491",
   "metadata": {},
   "outputs": [],
   "source": [
    "# Split data into a training set and a test set.\n",
    "\n",
    "X_train, X_test, y_train, y_test = train_test_split(X, y, test_size=0.3, random_state=0)"
   ]
  },
  {
   "cell_type": "markdown",
   "id": "47fc34b7-e5fc-49a7-8ddf-0bcc12b4d277",
   "metadata": {},
   "source": [
    "### Retry to see if there is any improvement"
   ]
  },
  {
   "cell_type": "code",
   "execution_count": 64,
   "id": "9b6b4402-4853-4adb-b756-6d8ec2c617fe",
   "metadata": {},
   "outputs": [],
   "source": [
    "# Create a regression object.\n",
    "\n",
    "regression = LinearRegression()  # This is the regression object, which will be fit onto the training set."
   ]
  },
  {
   "cell_type": "code",
   "execution_count": 65,
   "id": "b66e065d-3c00-421c-8cdb-b071f67bc260",
   "metadata": {},
   "outputs": [
    {
     "data": {
      "text/html": [
       "<style>#sk-container-id-2 {color: black;background-color: white;}#sk-container-id-2 pre{padding: 0;}#sk-container-id-2 div.sk-toggleable {background-color: white;}#sk-container-id-2 label.sk-toggleable__label {cursor: pointer;display: block;width: 100%;margin-bottom: 0;padding: 0.3em;box-sizing: border-box;text-align: center;}#sk-container-id-2 label.sk-toggleable__label-arrow:before {content: \"▸\";float: left;margin-right: 0.25em;color: #696969;}#sk-container-id-2 label.sk-toggleable__label-arrow:hover:before {color: black;}#sk-container-id-2 div.sk-estimator:hover label.sk-toggleable__label-arrow:before {color: black;}#sk-container-id-2 div.sk-toggleable__content {max-height: 0;max-width: 0;overflow: hidden;text-align: left;background-color: #f0f8ff;}#sk-container-id-2 div.sk-toggleable__content pre {margin: 0.2em;color: black;border-radius: 0.25em;background-color: #f0f8ff;}#sk-container-id-2 input.sk-toggleable__control:checked~div.sk-toggleable__content {max-height: 200px;max-width: 100%;overflow: auto;}#sk-container-id-2 input.sk-toggleable__control:checked~label.sk-toggleable__label-arrow:before {content: \"▾\";}#sk-container-id-2 div.sk-estimator input.sk-toggleable__control:checked~label.sk-toggleable__label {background-color: #d4ebff;}#sk-container-id-2 div.sk-label input.sk-toggleable__control:checked~label.sk-toggleable__label {background-color: #d4ebff;}#sk-container-id-2 input.sk-hidden--visually {border: 0;clip: rect(1px 1px 1px 1px);clip: rect(1px, 1px, 1px, 1px);height: 1px;margin: -1px;overflow: hidden;padding: 0;position: absolute;width: 1px;}#sk-container-id-2 div.sk-estimator {font-family: monospace;background-color: #f0f8ff;border: 1px dotted black;border-radius: 0.25em;box-sizing: border-box;margin-bottom: 0.5em;}#sk-container-id-2 div.sk-estimator:hover {background-color: #d4ebff;}#sk-container-id-2 div.sk-parallel-item::after {content: \"\";width: 100%;border-bottom: 1px solid gray;flex-grow: 1;}#sk-container-id-2 div.sk-label:hover label.sk-toggleable__label {background-color: #d4ebff;}#sk-container-id-2 div.sk-serial::before {content: \"\";position: absolute;border-left: 1px solid gray;box-sizing: border-box;top: 0;bottom: 0;left: 50%;z-index: 0;}#sk-container-id-2 div.sk-serial {display: flex;flex-direction: column;align-items: center;background-color: white;padding-right: 0.2em;padding-left: 0.2em;position: relative;}#sk-container-id-2 div.sk-item {position: relative;z-index: 1;}#sk-container-id-2 div.sk-parallel {display: flex;align-items: stretch;justify-content: center;background-color: white;position: relative;}#sk-container-id-2 div.sk-item::before, #sk-container-id-2 div.sk-parallel-item::before {content: \"\";position: absolute;border-left: 1px solid gray;box-sizing: border-box;top: 0;bottom: 0;left: 50%;z-index: -1;}#sk-container-id-2 div.sk-parallel-item {display: flex;flex-direction: column;z-index: 1;position: relative;background-color: white;}#sk-container-id-2 div.sk-parallel-item:first-child::after {align-self: flex-end;width: 50%;}#sk-container-id-2 div.sk-parallel-item:last-child::after {align-self: flex-start;width: 50%;}#sk-container-id-2 div.sk-parallel-item:only-child::after {width: 0;}#sk-container-id-2 div.sk-dashed-wrapped {border: 1px dashed gray;margin: 0 0.4em 0.5em 0.4em;box-sizing: border-box;padding-bottom: 0.4em;background-color: white;}#sk-container-id-2 div.sk-label label {font-family: monospace;font-weight: bold;display: inline-block;line-height: 1.2em;}#sk-container-id-2 div.sk-label-container {text-align: center;}#sk-container-id-2 div.sk-container {/* jupyter's `normalize.less` sets `[hidden] { display: none; }` but bootstrap.min.css set `[hidden] { display: none !important; }` so we also need the `!important` here to be able to override the default hidden behavior on the sphinx rendered scikit-learn.org. See: https://github.com/scikit-learn/scikit-learn/issues/21755 */display: inline-block !important;position: relative;}#sk-container-id-2 div.sk-text-repr-fallback {display: none;}</style><div id=\"sk-container-id-2\" class=\"sk-top-container\"><div class=\"sk-text-repr-fallback\"><pre>LinearRegression()</pre><b>In a Jupyter environment, please rerun this cell to show the HTML representation or trust the notebook. <br />On GitHub, the HTML representation is unable to render, please try loading this page with nbviewer.org.</b></div><div class=\"sk-container\" hidden><div class=\"sk-item\"><div class=\"sk-estimator sk-toggleable\"><input class=\"sk-toggleable__control sk-hidden--visually\" id=\"sk-estimator-id-2\" type=\"checkbox\" checked><label for=\"sk-estimator-id-2\" class=\"sk-toggleable__label sk-toggleable__label-arrow\">LinearRegression</label><div class=\"sk-toggleable__content\"><pre>LinearRegression()</pre></div></div></div></div></div>"
      ],
      "text/plain": [
       "LinearRegression()"
      ]
     },
     "execution_count": 65,
     "metadata": {},
     "output_type": "execute_result"
    }
   ],
   "source": [
    "# Fit the regression object onto the training set.\n",
    "\n",
    "regression.fit(X_train, y_train)"
   ]
  },
  {
   "cell_type": "code",
   "execution_count": 66,
   "id": "8653064e-79a0-4b52-8d47-ca08e970365f",
   "metadata": {},
   "outputs": [],
   "source": [
    "# Predict the values of y using X.\n",
    "\n",
    "y_predicted = regression.predict(X_test)"
   ]
  },
  {
   "cell_type": "code",
   "execution_count": 67,
   "id": "0007e2bb-e49f-4ec6-9cce-914577205227",
   "metadata": {},
   "outputs": [
    {
     "data": {
      "image/png": "[encoded data removed]",
      "text/plain": [
       "<Figure size 640x480 with 1 Axes>"
      ]
     },
     "metadata": {},
     "output_type": "display_data"
    }
   ],
   "source": [
    "# Create a plot that shows the regression line from the model on the test set.\n",
    "\n",
    "plot_test = plt\n",
    "plot_test.scatter(X_test, y_test, color='gray', s = 15)\n",
    "plot_test.plot(X_test, y_predicted, color='red', linewidth =3)\n",
    "plot_test.title('Bathrooms vs Price')\n",
    "plot_test.xlabel('price')\n",
    "plot_test.ylabel('bathrooms')\n",
    "plot_test.show()"
   ]
  },
  {
   "cell_type": "code",
   "execution_count": 68,
   "id": "faf64d19-a1f4-4452-ad62-85ad3f53e72a",
   "metadata": {},
   "outputs": [],
   "source": [
    "# Create objects that contain the model summary statistics.\n",
    "\n",
    "rmse = mean_squared_error(y_test, y_predicted) # This is the mean squared error\n",
    "r2 = r2_score(y_test, y_predicted) # This is the R2 score. "
   ]
  },
  {
   "cell_type": "code",
   "execution_count": 69,
   "id": "8cdbb441-ee27-4ef3-b120-1f2dbcc1880a",
   "metadata": {},
   "outputs": [
    {
     "name": "stdout",
     "output_type": "stream",
     "text": [
      "Slope: [[0.00076975]]\n",
      "Mean squared error:  0.13182203173351037\n",
      "R2 score:  0.11104382287562431\n"
     ]
    }
   ],
   "source": [
    "# Print the model summary statistics. This is where you evaluate the performance of the model.\n",
    "\n",
    "print('Slope:' ,regression.coef_)\n",
    "print('Mean squared error: ', rmse)\n",
    "print('R2 score: ', r2)"
   ]
  },
  {
   "cell_type": "code",
   "execution_count": 70,
   "id": "90cce98f-8109-467a-834c-9db1a562b9ea",
   "metadata": {},
   "outputs": [
    {
     "data": {
      "text/plain": [
       "array([[1.1764964 ],\n",
       "       [1.0181203 ],\n",
       "       [1.03505481],\n",
       "       ...,\n",
       "       [1.12607777],\n",
       "       [1.01273205],\n",
       "       [1.08893732]])"
      ]
     },
     "execution_count": 70,
     "metadata": {},
     "output_type": "execute_result"
    }
   ],
   "source": [
    "y_predicted"
   ]
  },
  {
   "cell_type": "code",
   "execution_count": 71,
   "id": "0af0fde9-31df-4642-91a1-0e78f6c63b65",
   "metadata": {},
   "outputs": [
    {
     "data": {
      "text/html": [
       "<div>\n",
       "<style scoped>\n",
       "    .dataframe tbody tr th:only-of-type {\n",
       "        vertical-align: middle;\n",
       "    }\n",
       "\n",
       "    .dataframe tbody tr th {\n",
       "        vertical-align: top;\n",
       "    }\n",
       "\n",
       "    .dataframe thead th {\n",
       "        text-align: right;\n",
       "    }\n",
       "</style>\n",
       "<table border=\"1\" class=\"dataframe\">\n",
       "  <thead>\n",
       "    <tr style=\"text-align: right;\">\n",
       "      <th></th>\n",
       "      <th>Actual</th>\n",
       "      <th>Predicted</th>\n",
       "    </tr>\n",
       "  </thead>\n",
       "  <tbody>\n",
       "    <tr>\n",
       "      <th>0</th>\n",
       "      <td>1.00</td>\n",
       "      <td>1.18</td>\n",
       "    </tr>\n",
       "    <tr>\n",
       "      <th>1</th>\n",
       "      <td>1.00</td>\n",
       "      <td>1.02</td>\n",
       "    </tr>\n",
       "    <tr>\n",
       "      <th>2</th>\n",
       "      <td>1.00</td>\n",
       "      <td>1.04</td>\n",
       "    </tr>\n",
       "    <tr>\n",
       "      <th>3</th>\n",
       "      <td>1.00</td>\n",
       "      <td>1.06</td>\n",
       "    </tr>\n",
       "    <tr>\n",
       "      <th>4</th>\n",
       "      <td>1.00</td>\n",
       "      <td>1.08</td>\n",
       "    </tr>\n",
       "    <tr>\n",
       "      <th>5</th>\n",
       "      <td>1.00</td>\n",
       "      <td>1.23</td>\n",
       "    </tr>\n",
       "    <tr>\n",
       "      <th>6</th>\n",
       "      <td>1.00</td>\n",
       "      <td>1.15</td>\n",
       "    </tr>\n",
       "    <tr>\n",
       "      <th>7</th>\n",
       "      <td>1.00</td>\n",
       "      <td>1.03</td>\n",
       "    </tr>\n",
       "    <tr>\n",
       "      <th>8</th>\n",
       "      <td>1.00</td>\n",
       "      <td>1.04</td>\n",
       "    </tr>\n",
       "    <tr>\n",
       "      <th>9</th>\n",
       "      <td>1.00</td>\n",
       "      <td>1.08</td>\n",
       "    </tr>\n",
       "    <tr>\n",
       "      <th>10</th>\n",
       "      <td>1.00</td>\n",
       "      <td>1.03</td>\n",
       "    </tr>\n",
       "    <tr>\n",
       "      <th>11</th>\n",
       "      <td>1.00</td>\n",
       "      <td>1.08</td>\n",
       "    </tr>\n",
       "    <tr>\n",
       "      <th>12</th>\n",
       "      <td>1.50</td>\n",
       "      <td>1.22</td>\n",
       "    </tr>\n",
       "    <tr>\n",
       "      <th>13</th>\n",
       "      <td>1.00</td>\n",
       "      <td>1.19</td>\n",
       "    </tr>\n",
       "    <tr>\n",
       "      <th>14</th>\n",
       "      <td>1.00</td>\n",
       "      <td>1.17</td>\n",
       "    </tr>\n",
       "    <tr>\n",
       "      <th>15</th>\n",
       "      <td>1.00</td>\n",
       "      <td>1.22</td>\n",
       "    </tr>\n",
       "    <tr>\n",
       "      <th>16</th>\n",
       "      <td>1.00</td>\n",
       "      <td>1.12</td>\n",
       "    </tr>\n",
       "    <tr>\n",
       "      <th>17</th>\n",
       "      <td>1.00</td>\n",
       "      <td>1.18</td>\n",
       "    </tr>\n",
       "    <tr>\n",
       "      <th>18</th>\n",
       "      <td>1.00</td>\n",
       "      <td>1.10</td>\n",
       "    </tr>\n",
       "    <tr>\n",
       "      <th>19</th>\n",
       "      <td>1.00</td>\n",
       "      <td>1.19</td>\n",
       "    </tr>\n",
       "    <tr>\n",
       "      <th>20</th>\n",
       "      <td>1.00</td>\n",
       "      <td>1.26</td>\n",
       "    </tr>\n",
       "    <tr>\n",
       "      <th>21</th>\n",
       "      <td>1.00</td>\n",
       "      <td>1.01</td>\n",
       "    </tr>\n",
       "    <tr>\n",
       "      <th>22</th>\n",
       "      <td>1.00</td>\n",
       "      <td>1.09</td>\n",
       "    </tr>\n",
       "    <tr>\n",
       "      <th>23</th>\n",
       "      <td>1.00</td>\n",
       "      <td>1.07</td>\n",
       "    </tr>\n",
       "    <tr>\n",
       "      <th>24</th>\n",
       "      <td>1.00</td>\n",
       "      <td>1.18</td>\n",
       "    </tr>\n",
       "    <tr>\n",
       "      <th>25</th>\n",
       "      <td>1.00</td>\n",
       "      <td>1.04</td>\n",
       "    </tr>\n",
       "    <tr>\n",
       "      <th>26</th>\n",
       "      <td>1.00</td>\n",
       "      <td>1.06</td>\n",
       "    </tr>\n",
       "    <tr>\n",
       "      <th>27</th>\n",
       "      <td>1.00</td>\n",
       "      <td>1.01</td>\n",
       "    </tr>\n",
       "    <tr>\n",
       "      <th>28</th>\n",
       "      <td>1.00</td>\n",
       "      <td>1.05</td>\n",
       "    </tr>\n",
       "    <tr>\n",
       "      <th>29</th>\n",
       "      <td>1.00</td>\n",
       "      <td>1.12</td>\n",
       "    </tr>\n",
       "  </tbody>\n",
       "</table>\n",
       "</div>"
      ],
      "text/plain": [
       "    Actual  Predicted\n",
       "0     1.00       1.18\n",
       "1     1.00       1.02\n",
       "2     1.00       1.04\n",
       "3     1.00       1.06\n",
       "4     1.00       1.08\n",
       "5     1.00       1.23\n",
       "6     1.00       1.15\n",
       "7     1.00       1.03\n",
       "8     1.00       1.04\n",
       "9     1.00       1.08\n",
       "10    1.00       1.03\n",
       "11    1.00       1.08\n",
       "12    1.50       1.22\n",
       "13    1.00       1.19\n",
       "14    1.00       1.17\n",
       "15    1.00       1.22\n",
       "16    1.00       1.12\n",
       "17    1.00       1.18\n",
       "18    1.00       1.10\n",
       "19    1.00       1.19\n",
       "20    1.00       1.26\n",
       "21    1.00       1.01\n",
       "22    1.00       1.09\n",
       "23    1.00       1.07\n",
       "24    1.00       1.18\n",
       "25    1.00       1.04\n",
       "26    1.00       1.06\n",
       "27    1.00       1.01\n",
       "28    1.00       1.05\n",
       "29    1.00       1.12"
      ]
     },
     "execution_count": 71,
     "metadata": {},
     "output_type": "execute_result"
    }
   ],
   "source": [
    "# Create a dataframe comparing the actual and predicted values of y.\n",
    "\n",
    "data = pd.DataFrame({'Actual': y_test.flatten(), 'Predicted': y_predicted.flatten()})\n",
    "data.head(30)"
   ]
  },
  {
   "cell_type": "code",
   "execution_count": 72,
   "id": "1e1eec1a-2e1b-4598-87cd-79d3a518b7d4",
   "metadata": {},
   "outputs": [],
   "source": [
    "# Predict.\n",
    "\n",
    "y_predicted_train = regression.predict(X_train) # This is predicting X_train!"
   ]
  },
  {
   "cell_type": "code",
   "execution_count": 73,
   "id": "99938c3a-07f4-46c2-b33e-f673e12f3266",
   "metadata": {},
   "outputs": [],
   "source": [
    "rmse = mean_squared_error(y_train, y_predicted_train)\n",
    "r2 = r2_score(y_train, y_predicted_train)"
   ]
  },
  {
   "cell_type": "code",
   "execution_count": 74,
   "id": "ef4a80e9-2289-4633-9641-50d66a10c84e",
   "metadata": {},
   "outputs": [
    {
     "name": "stdout",
     "output_type": "stream",
     "text": [
      "Slope: [[0.00076975]]\n",
      "Mean squared error:  0.1322772503069301\n",
      "R2 score:  0.10766252932882459\n"
     ]
    }
   ],
   "source": [
    "print('Slope:' ,regression.coef_)\n",
    "print('Mean squared error: ', rmse)\n",
    "print('R2 score: ', r2)"
   ]
  },
  {
   "cell_type": "code",
   "execution_count": 75,
   "id": "f4738ecc-1cc8-48fd-b1e3-237537d8f54e",
   "metadata": {},
   "outputs": [
    {
     "data": {
      "image/png": "[encoded data removed]",
      "text/plain": [
       "<Figure size 640x480 with 1 Axes>"
      ]
     },
     "metadata": {},
     "output_type": "display_data"
    }
   ],
   "source": [
    "# Visualizing the training set results.\n",
    "\n",
    "plot_test = plt\n",
    "plot_test.scatter(X_train, y_train, color='green', s = 15)\n",
    "plot_test.plot(X_train, y_predicted_train, color='red', linewidth =3)\n",
    "plot_test.title('Number of Bathrooms vs Price (Train set)')\n",
    "plot_test.xlabel('Number of Bathrooms')\n",
    "plot_test.ylabel('Price')\n",
    "plot_test.show()"
   ]
  },
  {
   "cell_type": "code",
   "execution_count": 76,
   "id": "75f864e3-f178-40f8-a15e-c0c5b3b148bd",
   "metadata": {},
   "outputs": [
    {
     "data": {
      "text/html": [
       "<div>\n",
       "<style scoped>\n",
       "    .dataframe tbody tr th:only-of-type {\n",
       "        vertical-align: middle;\n",
       "    }\n",
       "\n",
       "    .dataframe tbody tr th {\n",
       "        vertical-align: top;\n",
       "    }\n",
       "\n",
       "    .dataframe thead th {\n",
       "        text-align: right;\n",
       "    }\n",
       "</style>\n",
       "<table border=\"1\" class=\"dataframe\">\n",
       "  <thead>\n",
       "    <tr style=\"text-align: right;\">\n",
       "      <th></th>\n",
       "      <th>Actual</th>\n",
       "      <th>Predicted</th>\n",
       "    </tr>\n",
       "  </thead>\n",
       "  <tbody>\n",
       "    <tr>\n",
       "      <th>0</th>\n",
       "      <td>1.00</td>\n",
       "      <td>1.18</td>\n",
       "    </tr>\n",
       "    <tr>\n",
       "      <th>1</th>\n",
       "      <td>1.00</td>\n",
       "      <td>1.02</td>\n",
       "    </tr>\n",
       "    <tr>\n",
       "      <th>2</th>\n",
       "      <td>1.00</td>\n",
       "      <td>1.04</td>\n",
       "    </tr>\n",
       "    <tr>\n",
       "      <th>3</th>\n",
       "      <td>1.00</td>\n",
       "      <td>1.06</td>\n",
       "    </tr>\n",
       "    <tr>\n",
       "      <th>4</th>\n",
       "      <td>1.00</td>\n",
       "      <td>1.08</td>\n",
       "    </tr>\n",
       "    <tr>\n",
       "      <th>5</th>\n",
       "      <td>1.00</td>\n",
       "      <td>1.23</td>\n",
       "    </tr>\n",
       "    <tr>\n",
       "      <th>6</th>\n",
       "      <td>1.00</td>\n",
       "      <td>1.15</td>\n",
       "    </tr>\n",
       "    <tr>\n",
       "      <th>7</th>\n",
       "      <td>1.00</td>\n",
       "      <td>1.03</td>\n",
       "    </tr>\n",
       "    <tr>\n",
       "      <th>8</th>\n",
       "      <td>1.00</td>\n",
       "      <td>1.04</td>\n",
       "    </tr>\n",
       "    <tr>\n",
       "      <th>9</th>\n",
       "      <td>1.00</td>\n",
       "      <td>1.08</td>\n",
       "    </tr>\n",
       "    <tr>\n",
       "      <th>10</th>\n",
       "      <td>1.00</td>\n",
       "      <td>1.03</td>\n",
       "    </tr>\n",
       "    <tr>\n",
       "      <th>11</th>\n",
       "      <td>1.00</td>\n",
       "      <td>1.08</td>\n",
       "    </tr>\n",
       "    <tr>\n",
       "      <th>12</th>\n",
       "      <td>1.50</td>\n",
       "      <td>1.22</td>\n",
       "    </tr>\n",
       "    <tr>\n",
       "      <th>13</th>\n",
       "      <td>1.00</td>\n",
       "      <td>1.19</td>\n",
       "    </tr>\n",
       "    <tr>\n",
       "      <th>14</th>\n",
       "      <td>1.00</td>\n",
       "      <td>1.17</td>\n",
       "    </tr>\n",
       "    <tr>\n",
       "      <th>15</th>\n",
       "      <td>1.00</td>\n",
       "      <td>1.22</td>\n",
       "    </tr>\n",
       "    <tr>\n",
       "      <th>16</th>\n",
       "      <td>1.00</td>\n",
       "      <td>1.12</td>\n",
       "    </tr>\n",
       "    <tr>\n",
       "      <th>17</th>\n",
       "      <td>1.00</td>\n",
       "      <td>1.18</td>\n",
       "    </tr>\n",
       "    <tr>\n",
       "      <th>18</th>\n",
       "      <td>1.00</td>\n",
       "      <td>1.10</td>\n",
       "    </tr>\n",
       "    <tr>\n",
       "      <th>19</th>\n",
       "      <td>1.00</td>\n",
       "      <td>1.19</td>\n",
       "    </tr>\n",
       "    <tr>\n",
       "      <th>20</th>\n",
       "      <td>1.00</td>\n",
       "      <td>1.26</td>\n",
       "    </tr>\n",
       "    <tr>\n",
       "      <th>21</th>\n",
       "      <td>1.00</td>\n",
       "      <td>1.01</td>\n",
       "    </tr>\n",
       "    <tr>\n",
       "      <th>22</th>\n",
       "      <td>1.00</td>\n",
       "      <td>1.09</td>\n",
       "    </tr>\n",
       "    <tr>\n",
       "      <th>23</th>\n",
       "      <td>1.00</td>\n",
       "      <td>1.07</td>\n",
       "    </tr>\n",
       "    <tr>\n",
       "      <th>24</th>\n",
       "      <td>1.00</td>\n",
       "      <td>1.18</td>\n",
       "    </tr>\n",
       "    <tr>\n",
       "      <th>25</th>\n",
       "      <td>1.00</td>\n",
       "      <td>1.04</td>\n",
       "    </tr>\n",
       "    <tr>\n",
       "      <th>26</th>\n",
       "      <td>1.00</td>\n",
       "      <td>1.06</td>\n",
       "    </tr>\n",
       "    <tr>\n",
       "      <th>27</th>\n",
       "      <td>1.00</td>\n",
       "      <td>1.01</td>\n",
       "    </tr>\n",
       "    <tr>\n",
       "      <th>28</th>\n",
       "      <td>1.00</td>\n",
       "      <td>1.05</td>\n",
       "    </tr>\n",
       "    <tr>\n",
       "      <th>29</th>\n",
       "      <td>1.00</td>\n",
       "      <td>1.12</td>\n",
       "    </tr>\n",
       "  </tbody>\n",
       "</table>\n",
       "</div>"
      ],
      "text/plain": [
       "    Actual  Predicted\n",
       "0     1.00       1.18\n",
       "1     1.00       1.02\n",
       "2     1.00       1.04\n",
       "3     1.00       1.06\n",
       "4     1.00       1.08\n",
       "5     1.00       1.23\n",
       "6     1.00       1.15\n",
       "7     1.00       1.03\n",
       "8     1.00       1.04\n",
       "9     1.00       1.08\n",
       "10    1.00       1.03\n",
       "11    1.00       1.08\n",
       "12    1.50       1.22\n",
       "13    1.00       1.19\n",
       "14    1.00       1.17\n",
       "15    1.00       1.22\n",
       "16    1.00       1.12\n",
       "17    1.00       1.18\n",
       "18    1.00       1.10\n",
       "19    1.00       1.19\n",
       "20    1.00       1.26\n",
       "21    1.00       1.01\n",
       "22    1.00       1.09\n",
       "23    1.00       1.07\n",
       "24    1.00       1.18\n",
       "25    1.00       1.04\n",
       "26    1.00       1.06\n",
       "27    1.00       1.01\n",
       "28    1.00       1.05\n",
       "29    1.00       1.12"
      ]
     },
     "execution_count": 76,
     "metadata": {},
     "output_type": "execute_result"
    }
   ],
   "source": [
    "# Create a dataframe comparing the actual and predicted values of y.\n",
    "\n",
    "data_xtrain = pd.DataFrame({'Actual': X_train.flatten(), 'Predicted': X_train.flatten()})\n",
    "data.head(30)"
   ]
  },
  {
   "cell_type": "markdown",
   "id": "823ea014-e445-4bc6-9d4e-d987cbbf200d",
   "metadata": {},
   "source": [
    "After removing the major outlier, the slope (0.00076975) still suggests a very weak positive relationship between the selected variables. MSE (0.1323) slightly increased, meaning the points are scattered slightly further from the regression line. The R² score (0.11) has slightly decreased, indicating a poor fit. Thus, this model shows no improvement and remains unsuitable for accurate predictions. Because of the wildly varying prices accross NYC, a new model is best run for specific neighborhoods or boroughs instead of the city as a whole. "
   ]
  },
  {
   "cell_type": "code",
   "execution_count": 78,
   "id": "8605fdf4-a0ad-4703-b3af-d59ab98cc838",
   "metadata": {},
   "outputs": [],
   "source": [
    "listings_cleaned.to_pickle(os.path.join(path, '02 Data', 'Prepared Data', 'listings_cleaned_MachineLearning.pkl'))"
   ]
  }
 ],
 "metadata": {
  "kernelspec": {
   "display_name": "Python 3 (ipykernel)",
   "language": "python",
   "name": "python3"
  },
  "language_info": {
   "codemirror_mode": {
    "name": "ipython",
    "version": 3
   },
   "file_extension": ".py",
   "mimetype": "text/x-python",
   "name": "python",
   "nbconvert_exporter": "python",
   "pygments_lexer": "ipython3",
   "version": "3.11.7"
  }
 },
 "nbformat": 4,
 "nbformat_minor": 5
}
